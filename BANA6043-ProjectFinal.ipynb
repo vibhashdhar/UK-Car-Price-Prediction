{
 "cells": [
  {
   "cell_type": "markdown",
   "id": "8f9745c5",
   "metadata": {},
   "source": [
    "## 1. Exploratory Data Analysis\n",
    "\n",
    "### DATA DESCRIPTION\n",
    "\n",
    "Here,we have used a UK Used Car Dataset spanning from 1997 to 2020. The dataset was obtained from Kaggle(https://www.kaggle.com/adityadesai13/used-car-dataset-ford-and-mercedes ). The dataset basically contains information about different models of used audi cars in UK and provides insights about the resale value of cars. The variables in this dataset are :\n",
    "\n",
    "+  Model : This is a categorical variable including the names of all models of audi cars evaluated in the dataset.\n",
    "+ Year : This is a numeric variable spanning from 1997 to 2020 and includes the year of initial purchase of each car.\n",
    "+ Transmission :This is a categorical variable which states whether a particular car is Manual/Automatic/Semi-Auto.\n",
    "+ Price : This is a numerical variable which indicates the resale price of each car.\n",
    "+ Mileage : This is a numerical variable which indicates number of miles traveled by each car.\n",
    "+ FuelType : This is a categorical variable which has three levels, Diesel/Hybrid/Petrol.\n",
    "+ Tax: This is a numeric variable which indicates the onroad tax to be paid.\n",
    "+ mpg :This is a numeric variable which is the distance measured in miles that the car can travel per gallon of fuel.\n",
    "+ EngineSize : This is a numeric variable which is the measurement of total volume of cylinders in the engine. Bigger the engine size,more space there is for air and fuel inside it.\n",
    "\n",
    "OBJECTIVE : We are trying to observe the influence of predictors on the resale price of cars.\n",
    "\n",
    "Below is a summary of the dataset.\n",
    "\n",
    "---\n",
    "\n",
    "#### New Functions/Packages Used\n",
    "\n",
    "We have used the following new functions & packages:\n",
    "\n",
    "+ Function **preProcess** to normalize the Data.\n",
    "+ **glmnet** package for Ridge, Lasso and Elastic Net Regression\n",
    "+ **caret** package for introducing custom parameters in models.\n",
    "\n",
    "---"
   ]
  },
  {
   "cell_type": "markdown",
   "id": "43824034",
   "metadata": {},
   "source": [
    "#### Load Required Packages and read the csv    "
   ]
  },
  {
   "cell_type": "code",
   "execution_count": 1,
   "id": "21bf31ff",
   "metadata": {
    "error": false,
    "message": false,
    "warning": false
   },
   "outputs": [
    {
     "name": "stderr",
     "output_type": "stream",
     "text": [
      "-- \u001b[1mAttaching packages\u001b[22m -------------------------------------------------------------------------------------------------------------------------------------------------------------------------------------------------- tidyverse 1.3.0 --\n",
      "\n",
      "\u001b[32mv\u001b[39m \u001b[34mggplot2\u001b[39m 3.3.3     \u001b[32mv\u001b[39m \u001b[34mpurrr  \u001b[39m 0.3.4\n",
      "\u001b[32mv\u001b[39m \u001b[34mtibble \u001b[39m 3.1.0     \u001b[32mv\u001b[39m \u001b[34mdplyr  \u001b[39m 1.0.5\n",
      "\u001b[32mv\u001b[39m \u001b[34mtidyr  \u001b[39m 1.1.3     \u001b[32mv\u001b[39m \u001b[34mstringr\u001b[39m 1.4.0\n",
      "\u001b[32mv\u001b[39m \u001b[34mreadr  \u001b[39m 1.4.0     \u001b[32mv\u001b[39m \u001b[34mforcats\u001b[39m 0.5.1\n",
      "\n",
      "-- \u001b[1mConflicts\u001b[22m ----------------------------------------------------------------------------------------------------------------------------------------------------------------------------------------------------- tidyverse_conflicts() --\n",
      "\u001b[31mx\u001b[39m \u001b[34mdplyr\u001b[39m::\u001b[32mfilter()\u001b[39m masks \u001b[34mstats\u001b[39m::filter()\n",
      "\u001b[31mx\u001b[39m \u001b[34mdplyr\u001b[39m::\u001b[32mlag()\u001b[39m    masks \u001b[34mstats\u001b[39m::lag()\n",
      "\n",
      "Registered S3 method overwritten by 'GGally':\n",
      "  method from   \n",
      "  +.gg   ggplot2\n",
      "\n",
      "randomForest 4.6-14\n",
      "\n",
      "Type rfNews() to see new features/changes/bug fixes.\n",
      "\n",
      "\n",
      "Attaching package: 'randomForest'\n",
      "\n",
      "\n",
      "The following object is masked from 'package:dplyr':\n",
      "\n",
      "    combine\n",
      "\n",
      "\n",
      "The following object is masked from 'package:ggplot2':\n",
      "\n",
      "    margin\n",
      "\n",
      "\n",
      "Warning message:\n",
      "\"package 'e1071' was built under R version 4.0.5\"\n",
      "Loading required package: lattice\n",
      "\n",
      "\n",
      "Attaching package: 'caret'\n",
      "\n",
      "\n",
      "The following object is masked from 'package:purrr':\n",
      "\n",
      "    lift\n",
      "\n",
      "\n",
      "Warning message:\n",
      "\"package 'glmnet' was built under R version 4.0.5\"\n",
      "Loading required package: Matrix\n",
      "\n",
      "\n",
      "Attaching package: 'Matrix'\n",
      "\n",
      "\n",
      "The following objects are masked from 'package:tidyr':\n",
      "\n",
      "    expand, pack, unpack\n",
      "\n",
      "\n",
      "Loaded glmnet 4.1-1\n",
      "\n",
      "Warning message:\n",
      "\"package 'mlbench' was built under R version 4.0.5\"\n",
      "Warning message:\n",
      "\"package 'psych' was built under R version 4.0.5\"\n",
      "\n",
      "Attaching package: 'psych'\n",
      "\n",
      "\n",
      "The following object is masked from 'package:randomForest':\n",
      "\n",
      "    outlier\n",
      "\n",
      "\n",
      "The following objects are masked from 'package:ggplot2':\n",
      "\n",
      "    %+%, alpha\n",
      "\n",
      "\n"
     ]
    },
    {
     "data": {
      "text/plain": [
       "    model                year          price        transmission      \n",
       " Length:10668       Min.   :1997   Min.   :  1490   Length:10668      \n",
       " Class :character   1st Qu.:2016   1st Qu.: 15131   Class :character  \n",
       " Mode  :character   Median :2017   Median : 20200   Mode  :character  \n",
       "                    Mean   :2017   Mean   : 22897                     \n",
       "                    3rd Qu.:2019   3rd Qu.: 27990                     \n",
       "                    Max.   :2020   Max.   :145000                     \n",
       "    mileage         fuelType              tax           mpg        \n",
       " Min.   :     1   Length:10668       Min.   :  0   Min.   : 18.90  \n",
       " 1st Qu.:  5969   Class :character   1st Qu.:125   1st Qu.: 40.90  \n",
       " Median : 19000   Mode  :character   Median :145   Median : 49.60  \n",
       " Mean   : 24827                      Mean   :126   Mean   : 50.77  \n",
       " 3rd Qu.: 36465                      3rd Qu.:145   3rd Qu.: 58.90  \n",
       " Max.   :323000                      Max.   :580   Max.   :188.30  \n",
       "   engineSize   \n",
       " Min.   :0.000  \n",
       " 1st Qu.:1.500  \n",
       " Median :2.000  \n",
       " Mean   :1.931  \n",
       " 3rd Qu.:2.000  \n",
       " Max.   :6.300  "
      ]
     },
     "metadata": {},
     "output_type": "display_data"
    },
    {
     "name": "stdout",
     "output_type": "stream",
     "text": [
      "'data.frame':\t10668 obs. of  9 variables:\n",
      " $ model       : chr  \" A1\" \" A6\" \" A1\" \" A4\" ...\n",
      " $ year        : int  2017 2016 2016 2017 2019 2016 2016 2016 2015 2016 ...\n",
      " $ price       : int  12500 16500 11000 16800 17300 13900 13250 11750 10200 12000 ...\n",
      " $ transmission: chr  \"Manual\" \"Automatic\" \"Manual\" \"Automatic\" ...\n",
      " $ mileage     : int  15735 36203 29946 25952 1998 32260 76788 75185 46112 22451 ...\n",
      " $ fuelType    : chr  \"Petrol\" \"Diesel\" \"Petrol\" \"Diesel\" ...\n",
      " $ tax         : int  150 20 30 145 145 30 30 20 20 30 ...\n",
      " $ mpg         : num  55.4 64.2 55.4 67.3 49.6 58.9 61.4 70.6 60.1 55.4 ...\n",
      " $ engineSize  : num  1.4 2 1.4 2 1 1.4 2 2 1.4 1.4 ...\n"
     ]
    }
   ],
   "source": [
    "library(tidyverse)\n",
    "library(GGally)\n",
    "library(randomForest)\n",
    "library(e1071)\n",
    "library(caret)\n",
    "library(glmnet)\n",
    "library(mlbench)\n",
    "library(psych)\n",
    "\n",
    "d <- read.csv(\"audi.csv\")\n",
    "summary(d)\n",
    "str(d)"
   ]
  },
  {
   "cell_type": "markdown",
   "id": "48db6a94",
   "metadata": {},
   "source": [
    "---\n",
    "\n",
    "#### DATA CLEANING\n",
    "\n",
    "In order to check for null values in our dataset, we have included the following. We could see that there are no null values in our dataset."
   ]
  },
  {
   "cell_type": "code",
   "execution_count": 2,
   "id": "6178d6b1",
   "metadata": {
    "lines_to_next_cell": 2
   },
   "outputs": [
    {
     "data": {
      "text/html": [
       "0"
      ],
      "text/latex": [
       "0"
      ],
      "text/markdown": [
       "0"
      ],
      "text/plain": [
       "[1] 0"
      ]
     },
     "metadata": {},
     "output_type": "display_data"
    },
    {
     "data": {
      "text/html": [
       "0"
      ],
      "text/latex": [
       "0"
      ],
      "text/markdown": [
       "0"
      ],
      "text/plain": [
       "[1] 0"
      ]
     },
     "metadata": {},
     "output_type": "display_data"
    },
    {
     "data": {
      "text/html": [
       "0"
      ],
      "text/latex": [
       "0"
      ],
      "text/markdown": [
       "0"
      ],
      "text/plain": [
       "[1] 0"
      ]
     },
     "metadata": {},
     "output_type": "display_data"
    },
    {
     "data": {
      "text/html": [
       "0"
      ],
      "text/latex": [
       "0"
      ],
      "text/markdown": [
       "0"
      ],
      "text/plain": [
       "[1] 0"
      ]
     },
     "metadata": {},
     "output_type": "display_data"
    },
    {
     "data": {
      "text/html": [
       "0"
      ],
      "text/latex": [
       "0"
      ],
      "text/markdown": [
       "0"
      ],
      "text/plain": [
       "[1] 0"
      ]
     },
     "metadata": {},
     "output_type": "display_data"
    },
    {
     "data": {
      "text/html": [
       "0"
      ],
      "text/latex": [
       "0"
      ],
      "text/markdown": [
       "0"
      ],
      "text/plain": [
       "[1] 0"
      ]
     },
     "metadata": {},
     "output_type": "display_data"
    },
    {
     "data": {
      "text/html": [
       "0"
      ],
      "text/latex": [
       "0"
      ],
      "text/markdown": [
       "0"
      ],
      "text/plain": [
       "[1] 0"
      ]
     },
     "metadata": {},
     "output_type": "display_data"
    },
    {
     "data": {
      "text/html": [
       "0"
      ],
      "text/latex": [
       "0"
      ],
      "text/markdown": [
       "0"
      ],
      "text/plain": [
       "[1] 0"
      ]
     },
     "metadata": {},
     "output_type": "display_data"
    },
    {
     "data": {
      "text/html": [
       "0"
      ],
      "text/latex": [
       "0"
      ],
      "text/markdown": [
       "0"
      ],
      "text/plain": [
       "[1] 0"
      ]
     },
     "metadata": {},
     "output_type": "display_data"
    }
   ],
   "source": [
    "sum(is.na(d$model))\n",
    "sum(is.na(d$year))\n",
    "sum(is.na(d$price))\n",
    "sum(is.na(d$transmission))\n",
    "sum(is.na(d$mileage))\n",
    "sum(is.na(d$fuelType))\n",
    "sum(is.na(d$tax))\n",
    "sum(is.na(d$mpg))\n",
    "sum(is.na(d$engineSize))\n"
   ]
  },
  {
   "cell_type": "markdown",
   "id": "761e0c22",
   "metadata": {},
   "source": [
    "#### VISUALIZATIONS AND DATA ANALYSIS\n"
   ]
  },
  {
   "cell_type": "code",
   "execution_count": 3,
   "id": "2b110790",
   "metadata": {
    "error": false,
    "message": false,
    "warning": false
   },
   "outputs": [
    {
     "name": "stderr",
     "output_type": "stream",
     "text": [
      "Warning message:\n",
      "\"package 'sqldf' was built under R version 4.0.5\"\n",
      "Loading required package: gsubfn\n",
      "\n",
      "Warning message:\n",
      "\"package 'gsubfn' was built under R version 4.0.5\"\n",
      "Loading required package: proto\n",
      "\n",
      "Warning message:\n",
      "\"package 'proto' was built under R version 4.0.5\"\n",
      "Loading required package: RSQLite\n",
      "\n",
      "Warning message:\n",
      "\"package 'RSQLite' was built under R version 4.0.5\"\n"
     ]
    },
    {
     "data": {
      "text/html": [
       "<table class=\"dataframe\">\n",
       "<caption>A data.frame: 21 × 2</caption>\n",
       "<thead>\n",
       "\t<tr><th scope=col>year</th><th scope=col>avg(price)</th></tr>\n",
       "\t<tr><th scope=col>&lt;int&gt;</th><th scope=col>&lt;dbl&gt;</th></tr>\n",
       "</thead>\n",
       "<tbody>\n",
       "\t<tr><td>1997</td><td> 4650.000</td></tr>\n",
       "\t<tr><td>1998</td><td> 4999.000</td></tr>\n",
       "\t<tr><td>2002</td><td> 2433.000</td></tr>\n",
       "\t<tr><td>2003</td><td> 3408.333</td></tr>\n",
       "\t<tr><td>2004</td><td> 5053.600</td></tr>\n",
       "\t<tr><td>2005</td><td> 3490.714</td></tr>\n",
       "\t<tr><td>2006</td><td> 6499.111</td></tr>\n",
       "\t<tr><td>2007</td><td> 7325.250</td></tr>\n",
       "\t<tr><td>2008</td><td> 6281.429</td></tr>\n",
       "\t<tr><td>2009</td><td> 6281.957</td></tr>\n",
       "\t<tr><td>2010</td><td> 7224.094</td></tr>\n",
       "\t<tr><td>2011</td><td> 8944.809</td></tr>\n",
       "\t<tr><td>2012</td><td> 9860.812</td></tr>\n",
       "\t<tr><td>2013</td><td>11690.790</td></tr>\n",
       "\t<tr><td>2014</td><td>13890.660</td></tr>\n",
       "\t<tr><td>2015</td><td>15128.235</td></tr>\n",
       "\t<tr><td>2016</td><td>16908.725</td></tr>\n",
       "\t<tr><td>2017</td><td>19951.624</td></tr>\n",
       "\t<tr><td>2018</td><td>26296.707</td></tr>\n",
       "\t<tr><td>2019</td><td>30410.752</td></tr>\n",
       "\t<tr><td>2020</td><td>35967.067</td></tr>\n",
       "</tbody>\n",
       "</table>\n"
      ],
      "text/latex": [
       "A data.frame: 21 × 2\n",
       "\\begin{tabular}{ll}\n",
       " year & avg(price)\\\\\n",
       " <int> & <dbl>\\\\\n",
       "\\hline\n",
       "\t 1997 &  4650.000\\\\\n",
       "\t 1998 &  4999.000\\\\\n",
       "\t 2002 &  2433.000\\\\\n",
       "\t 2003 &  3408.333\\\\\n",
       "\t 2004 &  5053.600\\\\\n",
       "\t 2005 &  3490.714\\\\\n",
       "\t 2006 &  6499.111\\\\\n",
       "\t 2007 &  7325.250\\\\\n",
       "\t 2008 &  6281.429\\\\\n",
       "\t 2009 &  6281.957\\\\\n",
       "\t 2010 &  7224.094\\\\\n",
       "\t 2011 &  8944.809\\\\\n",
       "\t 2012 &  9860.812\\\\\n",
       "\t 2013 & 11690.790\\\\\n",
       "\t 2014 & 13890.660\\\\\n",
       "\t 2015 & 15128.235\\\\\n",
       "\t 2016 & 16908.725\\\\\n",
       "\t 2017 & 19951.624\\\\\n",
       "\t 2018 & 26296.707\\\\\n",
       "\t 2019 & 30410.752\\\\\n",
       "\t 2020 & 35967.067\\\\\n",
       "\\end{tabular}\n"
      ],
      "text/markdown": [
       "\n",
       "A data.frame: 21 × 2\n",
       "\n",
       "| year &lt;int&gt; | avg(price) &lt;dbl&gt; |\n",
       "|---|---|\n",
       "| 1997 |  4650.000 |\n",
       "| 1998 |  4999.000 |\n",
       "| 2002 |  2433.000 |\n",
       "| 2003 |  3408.333 |\n",
       "| 2004 |  5053.600 |\n",
       "| 2005 |  3490.714 |\n",
       "| 2006 |  6499.111 |\n",
       "| 2007 |  7325.250 |\n",
       "| 2008 |  6281.429 |\n",
       "| 2009 |  6281.957 |\n",
       "| 2010 |  7224.094 |\n",
       "| 2011 |  8944.809 |\n",
       "| 2012 |  9860.812 |\n",
       "| 2013 | 11690.790 |\n",
       "| 2014 | 13890.660 |\n",
       "| 2015 | 15128.235 |\n",
       "| 2016 | 16908.725 |\n",
       "| 2017 | 19951.624 |\n",
       "| 2018 | 26296.707 |\n",
       "| 2019 | 30410.752 |\n",
       "| 2020 | 35967.067 |\n",
       "\n"
      ],
      "text/plain": [
       "   year avg(price)\n",
       "1  1997  4650.000 \n",
       "2  1998  4999.000 \n",
       "3  2002  2433.000 \n",
       "4  2003  3408.333 \n",
       "5  2004  5053.600 \n",
       "6  2005  3490.714 \n",
       "7  2006  6499.111 \n",
       "8  2007  7325.250 \n",
       "9  2008  6281.429 \n",
       "10 2009  6281.957 \n",
       "11 2010  7224.094 \n",
       "12 2011  8944.809 \n",
       "13 2012  9860.812 \n",
       "14 2013 11690.790 \n",
       "15 2014 13890.660 \n",
       "16 2015 15128.235 \n",
       "17 2016 16908.725 \n",
       "18 2017 19951.624 \n",
       "19 2018 26296.707 \n",
       "20 2019 30410.752 \n",
       "21 2020 35967.067 "
      ]
     },
     "metadata": {},
     "output_type": "display_data"
    },
    {
     "data": {
      "text/html": [
       "<table class=\"dataframe\">\n",
       "<caption>A data.frame: 26 × 2</caption>\n",
       "<thead>\n",
       "\t<tr><th scope=col>model</th><th scope=col>avg(price)</th></tr>\n",
       "\t<tr><th scope=col>&lt;chr&gt;</th><th scope=col>&lt;dbl&gt;</th></tr>\n",
       "</thead>\n",
       "<tbody>\n",
       "\t<tr><td> A2 </td><td> 2490.00</td></tr>\n",
       "\t<tr><td> A1 </td><td>14327.75</td></tr>\n",
       "\t<tr><td> S5 </td><td>15980.00</td></tr>\n",
       "\t<tr><td> A3 </td><td>17408.52</td></tr>\n",
       "\t<tr><td> A4 </td><td>20255.45</td></tr>\n",
       "\t<tr><td> S3 </td><td>20379.44</td></tr>\n",
       "\t<tr><td> TT </td><td>21784.45</td></tr>\n",
       "\t<tr><td> Q2 </td><td>22516.98</td></tr>\n",
       "\t<tr><td> A6 </td><td>22695.39</td></tr>\n",
       "\t<tr><td> Q3 </td><td>22999.26</td></tr>\n",
       "\t<tr><td> A5 </td><td>23577.11</td></tr>\n",
       "\t<tr><td> A7 </td><td>28865.52</td></tr>\n",
       "\t<tr><td> Q5 </td><td>30445.69</td></tr>\n",
       "\t<tr><td> S4 </td><td>31248.08</td></tr>\n",
       "\t<tr><td> SQ5</td><td>31415.81</td></tr>\n",
       "\t<tr><td> RS7</td><td>33490.00</td></tr>\n",
       "\t<tr><td> S8 </td><td>33807.75</td></tr>\n",
       "\t<tr><td> RS3</td><td>34050.52</td></tr>\n",
       "\t<tr><td> A8 </td><td>34981.85</td></tr>\n",
       "\t<tr><td> Q7 </td><td>44788.32</td></tr>\n",
       "\t<tr><td> SQ7</td><td>49269.00</td></tr>\n",
       "\t<tr><td> RS4</td><td>50151.61</td></tr>\n",
       "\t<tr><td> RS5</td><td>51265.21</td></tr>\n",
       "\t<tr><td> RS6</td><td>55963.87</td></tr>\n",
       "\t<tr><td> Q8 </td><td>60115.01</td></tr>\n",
       "\t<tr><td> R8 </td><td>97652.21</td></tr>\n",
       "</tbody>\n",
       "</table>\n"
      ],
      "text/latex": [
       "A data.frame: 26 × 2\n",
       "\\begin{tabular}{ll}\n",
       " model & avg(price)\\\\\n",
       " <chr> & <dbl>\\\\\n",
       "\\hline\n",
       "\t  A2  &  2490.00\\\\\n",
       "\t  A1  & 14327.75\\\\\n",
       "\t  S5  & 15980.00\\\\\n",
       "\t  A3  & 17408.52\\\\\n",
       "\t  A4  & 20255.45\\\\\n",
       "\t  S3  & 20379.44\\\\\n",
       "\t  TT  & 21784.45\\\\\n",
       "\t  Q2  & 22516.98\\\\\n",
       "\t  A6  & 22695.39\\\\\n",
       "\t  Q3  & 22999.26\\\\\n",
       "\t  A5  & 23577.11\\\\\n",
       "\t  A7  & 28865.52\\\\\n",
       "\t  Q5  & 30445.69\\\\\n",
       "\t  S4  & 31248.08\\\\\n",
       "\t  SQ5 & 31415.81\\\\\n",
       "\t  RS7 & 33490.00\\\\\n",
       "\t  S8  & 33807.75\\\\\n",
       "\t  RS3 & 34050.52\\\\\n",
       "\t  A8  & 34981.85\\\\\n",
       "\t  Q7  & 44788.32\\\\\n",
       "\t  SQ7 & 49269.00\\\\\n",
       "\t  RS4 & 50151.61\\\\\n",
       "\t  RS5 & 51265.21\\\\\n",
       "\t  RS6 & 55963.87\\\\\n",
       "\t  Q8  & 60115.01\\\\\n",
       "\t  R8  & 97652.21\\\\\n",
       "\\end{tabular}\n"
      ],
      "text/markdown": [
       "\n",
       "A data.frame: 26 × 2\n",
       "\n",
       "| model &lt;chr&gt; | avg(price) &lt;dbl&gt; |\n",
       "|---|---|\n",
       "|  A2  |  2490.00 |\n",
       "|  A1  | 14327.75 |\n",
       "|  S5  | 15980.00 |\n",
       "|  A3  | 17408.52 |\n",
       "|  A4  | 20255.45 |\n",
       "|  S3  | 20379.44 |\n",
       "|  TT  | 21784.45 |\n",
       "|  Q2  | 22516.98 |\n",
       "|  A6  | 22695.39 |\n",
       "|  Q3  | 22999.26 |\n",
       "|  A5  | 23577.11 |\n",
       "|  A7  | 28865.52 |\n",
       "|  Q5  | 30445.69 |\n",
       "|  S4  | 31248.08 |\n",
       "|  SQ5 | 31415.81 |\n",
       "|  RS7 | 33490.00 |\n",
       "|  S8  | 33807.75 |\n",
       "|  RS3 | 34050.52 |\n",
       "|  A8  | 34981.85 |\n",
       "|  Q7  | 44788.32 |\n",
       "|  SQ7 | 49269.00 |\n",
       "|  RS4 | 50151.61 |\n",
       "|  RS5 | 51265.21 |\n",
       "|  RS6 | 55963.87 |\n",
       "|  Q8  | 60115.01 |\n",
       "|  R8  | 97652.21 |\n",
       "\n"
      ],
      "text/plain": [
       "   model avg(price)\n",
       "1   A2    2490.00  \n",
       "2   A1   14327.75  \n",
       "3   S5   15980.00  \n",
       "4   A3   17408.52  \n",
       "5   A4   20255.45  \n",
       "6   S3   20379.44  \n",
       "7   TT   21784.45  \n",
       "8   Q2   22516.98  \n",
       "9   A6   22695.39  \n",
       "10  Q3   22999.26  \n",
       "11  A5   23577.11  \n",
       "12  A7   28865.52  \n",
       "13  Q5   30445.69  \n",
       "14  S4   31248.08  \n",
       "15  SQ5  31415.81  \n",
       "16  RS7  33490.00  \n",
       "17  S8   33807.75  \n",
       "18  RS3  34050.52  \n",
       "19  A8   34981.85  \n",
       "20  Q7   44788.32  \n",
       "21  SQ7  49269.00  \n",
       "22  RS4  50151.61  \n",
       "23  RS5  51265.21  \n",
       "24  RS6  55963.87  \n",
       "25  Q8   60115.01  \n",
       "26  R8   97652.21  "
      ]
     },
     "metadata": {},
     "output_type": "display_data"
    },
    {
     "data": {
      "text/html": [
       "<table class=\"dataframe\">\n",
       "<caption>A data.frame: 3 × 2</caption>\n",
       "<thead>\n",
       "\t<tr><th scope=col>transmission</th><th scope=col>avg(price)</th></tr>\n",
       "\t<tr><th scope=col>&lt;chr&gt;</th><th scope=col>&lt;dbl&gt;</th></tr>\n",
       "</thead>\n",
       "<tbody>\n",
       "\t<tr><td>Automatic</td><td>28204.75</td></tr>\n",
       "\t<tr><td>Manual   </td><td>16101.03</td></tr>\n",
       "\t<tr><td>Semi-Auto</td><td>27161.78</td></tr>\n",
       "</tbody>\n",
       "</table>\n"
      ],
      "text/latex": [
       "A data.frame: 3 × 2\n",
       "\\begin{tabular}{ll}\n",
       " transmission & avg(price)\\\\\n",
       " <chr> & <dbl>\\\\\n",
       "\\hline\n",
       "\t Automatic & 28204.75\\\\\n",
       "\t Manual    & 16101.03\\\\\n",
       "\t Semi-Auto & 27161.78\\\\\n",
       "\\end{tabular}\n"
      ],
      "text/markdown": [
       "\n",
       "A data.frame: 3 × 2\n",
       "\n",
       "| transmission &lt;chr&gt; | avg(price) &lt;dbl&gt; |\n",
       "|---|---|\n",
       "| Automatic | 28204.75 |\n",
       "| Manual    | 16101.03 |\n",
       "| Semi-Auto | 27161.78 |\n",
       "\n"
      ],
      "text/plain": [
       "  transmission avg(price)\n",
       "1 Automatic    28204.75  \n",
       "2 Manual       16101.03  \n",
       "3 Semi-Auto    27161.78  "
      ]
     },
     "metadata": {},
     "output_type": "display_data"
    },
    {
     "data": {
      "text/html": [
       "<table class=\"dataframe\">\n",
       "<caption>A data.frame: 3 × 2</caption>\n",
       "<thead>\n",
       "\t<tr><th scope=col>fuelType</th><th scope=col>avg(price)</th></tr>\n",
       "\t<tr><th scope=col>&lt;chr&gt;</th><th scope=col>&lt;dbl&gt;</th></tr>\n",
       "</thead>\n",
       "<tbody>\n",
       "\t<tr><td>Diesel</td><td>23237.52</td></tr>\n",
       "\t<tr><td>Hybrid</td><td>30191.75</td></tr>\n",
       "\t<tr><td>Petrol</td><td>22480.91</td></tr>\n",
       "</tbody>\n",
       "</table>\n"
      ],
      "text/latex": [
       "A data.frame: 3 × 2\n",
       "\\begin{tabular}{ll}\n",
       " fuelType & avg(price)\\\\\n",
       " <chr> & <dbl>\\\\\n",
       "\\hline\n",
       "\t Diesel & 23237.52\\\\\n",
       "\t Hybrid & 30191.75\\\\\n",
       "\t Petrol & 22480.91\\\\\n",
       "\\end{tabular}\n"
      ],
      "text/markdown": [
       "\n",
       "A data.frame: 3 × 2\n",
       "\n",
       "| fuelType &lt;chr&gt; | avg(price) &lt;dbl&gt; |\n",
       "|---|---|\n",
       "| Diesel | 23237.52 |\n",
       "| Hybrid | 30191.75 |\n",
       "| Petrol | 22480.91 |\n",
       "\n"
      ],
      "text/plain": [
       "  fuelType avg(price)\n",
       "1 Diesel   23237.52  \n",
       "2 Hybrid   30191.75  \n",
       "3 Petrol   22480.91  "
      ]
     },
     "metadata": {},
     "output_type": "display_data"
    },
    {
     "data": {
      "image/png": "[encoded data removed]",
      "text/plain": [
       "plot without title"
      ]
     },
     "metadata": {
      "image/png": {
       "height": 420,
       "width": 420
      }
     },
     "output_type": "display_data"
    },
    {
     "data": {
      "image/png": "[encoded data removed]",
      "text/plain": [
       "plot without title"
      ]
     },
     "metadata": {
      "image/png": {
       "height": 420,
       "width": 420
      }
     },
     "output_type": "display_data"
    },
    {
     "data": {
      "image/png": "[encoded data removed]",
      "text/plain": [
       "plot without title"
      ]
     },
     "metadata": {
      "image/png": {
       "height": 420,
       "width": 420
      }
     },
     "output_type": "display_data"
    },
    {
     "data": {
      "image/png": "[encoded data removed]",
      "text/plain": [
       "plot without title"
      ]
     },
     "metadata": {
      "image/png": {
       "height": 420,
       "width": 420
      }
     },
     "output_type": "display_data"
    }
   ],
   "source": [
    "library(sqldf)\n",
    "sql1 <- sqldf('select year,avg(price) from d group by year')\n",
    "sql1\n",
    "\n",
    "sql2 <- sqldf('select model,avg(price) from d group by model order by avg(price)')\n",
    "sql2\n",
    "\n",
    "sql3 <- sqldf('select transmission,avg(price) from d group by transmission')\n",
    "sql3\n",
    "\n",
    "sql4 <- sqldf('select fuelType,avg(price) from d group by fuelType')\n",
    "sql4\n",
    "\n",
    "ggplot(data=d)+geom_bar(mapping=aes(x=year),fill= \"blue\")+ggtitle(\"No: of cars purchased in each year\")\n",
    "\n",
    "\n",
    "ggplot(data=d)+geom_bar(mapping=aes(x=model),fill= \"red\")+ggtitle(\"No: of cars of each model\")\n",
    "\n",
    "ggplot(data=d)+geom_bar(mapping=aes(x=transmission),fill= \"brown\")+ggtitle(\"No: of cars of each transmission type\")\n",
    "\n",
    "ggplot(data=d)+geom_bar(mapping=aes(x=fuelType),fill= \"green\")+ggtitle(\"No: of cars of different fueltypes\")\n"
   ]
  },
  {
   "cell_type": "markdown",
   "id": "9ba449f3",
   "metadata": {},
   "source": [
    "---\n",
    "\n",
    "#### **Observations:**\n",
    "+ Here, we found average price of cars in each year and could observe that the average price was minimum in the year 2002 and maximum in the year 2020. \n",
    "+ The average price of cars was the lowest for the A2 model and highest for the R8 model.\n",
    "+ Automatic type cars had the highest average resale price ,whereas manual type cars had the lowest average resale price.\n",
    "+ Petrol cars had the lowest average resale price ,whereas hybrid model cars had the highest average resale price.  \n",
    "\n",
    "---\n",
    "\n",
    "#### CORRELATION MATRIX AND SCATTER PLOTS"
   ]
  },
  {
   "cell_type": "code",
   "execution_count": 4,
   "id": "ec3a4755",
   "metadata": {},
   "outputs": [
    {
     "data": {
      "text/html": [
       "<table class=\"dataframe\">\n",
       "<caption>A matrix: 6 × 6 of type dbl</caption>\n",
       "<thead>\n",
       "\t<tr><th></th><th scope=col>year</th><th scope=col>price</th><th scope=col>mileage</th><th scope=col>tax</th><th scope=col>mpg</th><th scope=col>engineSize</th></tr>\n",
       "</thead>\n",
       "<tbody>\n",
       "\t<tr><th scope=row>year</th><td> 1.00000000</td><td> 0.5925815</td><td>-0.78966699</td><td> 0.09306616</td><td>-0.3512809</td><td>-0.03158230</td></tr>\n",
       "\t<tr><th scope=row>price</th><td> 0.59258146</td><td> 1.0000000</td><td>-0.53535710</td><td> 0.35615699</td><td>-0.6003344</td><td> 0.59126164</td></tr>\n",
       "\t<tr><th scope=row>mileage</th><td>-0.78966699</td><td>-0.5353571</td><td> 1.00000000</td><td>-0.16654715</td><td> 0.3951034</td><td> 0.07071017</td></tr>\n",
       "\t<tr><th scope=row>tax</th><td> 0.09306616</td><td> 0.3561570</td><td>-0.16654715</td><td> 1.00000000</td><td>-0.6359085</td><td> 0.39307544</td></tr>\n",
       "\t<tr><th scope=row>mpg</th><td>-0.35128087</td><td>-0.6003344</td><td> 0.39510337</td><td>-0.63590853</td><td> 1.0000000</td><td>-0.36562073</td></tr>\n",
       "\t<tr><th scope=row>engineSize</th><td>-0.03158230</td><td> 0.5912616</td><td> 0.07071017</td><td> 0.39307544</td><td>-0.3656207</td><td> 1.00000000</td></tr>\n",
       "</tbody>\n",
       "</table>\n"
      ],
      "text/latex": [
       "A matrix: 6 × 6 of type dbl\n",
       "\\begin{tabular}{r|llllll}\n",
       "  & year & price & mileage & tax & mpg & engineSize\\\\\n",
       "\\hline\n",
       "\tyear &  1.00000000 &  0.5925815 & -0.78966699 &  0.09306616 & -0.3512809 & -0.03158230\\\\\n",
       "\tprice &  0.59258146 &  1.0000000 & -0.53535710 &  0.35615699 & -0.6003344 &  0.59126164\\\\\n",
       "\tmileage & -0.78966699 & -0.5353571 &  1.00000000 & -0.16654715 &  0.3951034 &  0.07071017\\\\\n",
       "\ttax &  0.09306616 &  0.3561570 & -0.16654715 &  1.00000000 & -0.6359085 &  0.39307544\\\\\n",
       "\tmpg & -0.35128087 & -0.6003344 &  0.39510337 & -0.63590853 &  1.0000000 & -0.36562073\\\\\n",
       "\tengineSize & -0.03158230 &  0.5912616 &  0.07071017 &  0.39307544 & -0.3656207 &  1.00000000\\\\\n",
       "\\end{tabular}\n"
      ],
      "text/markdown": [
       "\n",
       "A matrix: 6 × 6 of type dbl\n",
       "\n",
       "| <!--/--> | year | price | mileage | tax | mpg | engineSize |\n",
       "|---|---|---|---|---|---|---|\n",
       "| year |  1.00000000 |  0.5925815 | -0.78966699 |  0.09306616 | -0.3512809 | -0.03158230 |\n",
       "| price |  0.59258146 |  1.0000000 | -0.53535710 |  0.35615699 | -0.6003344 |  0.59126164 |\n",
       "| mileage | -0.78966699 | -0.5353571 |  1.00000000 | -0.16654715 |  0.3951034 |  0.07071017 |\n",
       "| tax |  0.09306616 |  0.3561570 | -0.16654715 |  1.00000000 | -0.6359085 |  0.39307544 |\n",
       "| mpg | -0.35128087 | -0.6003344 |  0.39510337 | -0.63590853 |  1.0000000 | -0.36562073 |\n",
       "| engineSize | -0.03158230 |  0.5912616 |  0.07071017 |  0.39307544 | -0.3656207 |  1.00000000 |\n",
       "\n"
      ],
      "text/plain": [
       "           year        price      mileage     tax         mpg       \n",
       "year        1.00000000  0.5925815 -0.78966699  0.09306616 -0.3512809\n",
       "price       0.59258146  1.0000000 -0.53535710  0.35615699 -0.6003344\n",
       "mileage    -0.78966699 -0.5353571  1.00000000 -0.16654715  0.3951034\n",
       "tax         0.09306616  0.3561570 -0.16654715  1.00000000 -0.6359085\n",
       "mpg        -0.35128087 -0.6003344  0.39510337 -0.63590853  1.0000000\n",
       "engineSize -0.03158230  0.5912616  0.07071017  0.39307544 -0.3656207\n",
       "           engineSize \n",
       "year       -0.03158230\n",
       "price       0.59126164\n",
       "mileage     0.07071017\n",
       "tax         0.39307544\n",
       "mpg        -0.36562073\n",
       "engineSize  1.00000000"
      ]
     },
     "metadata": {},
     "output_type": "display_data"
    },
    {
     "data": {
      "image/png": "[encoded data removed]",
      "text/plain": [
       "Plot with title \"Histogram of d$price\""
      ]
     },
     "metadata": {
      "image/png": {
       "height": 420,
       "width": 420
      }
     },
     "output_type": "display_data"
    },
    {
     "data": {
      "image/png": "[encoded data removed]",
      "text/plain": [
       "Plot with title \"Histogram of f$lnprice\""
      ]
     },
     "metadata": {
      "image/png": {
       "height": 420,
       "width": 420
      }
     },
     "output_type": "display_data"
    },
    {
     "data": {
      "image/png": "[encoded data removed]",
      "text/plain": [
       "plot without title"
      ]
     },
     "metadata": {
      "image/png": {
       "height": 420,
       "width": 420
      }
     },
     "output_type": "display_data"
    },
    {
     "data": {
      "image/png": "[encoded data removed]",
      "text/plain": [
       "plot without title"
      ]
     },
     "metadata": {
      "image/png": {
       "height": 420,
       "width": 420
      }
     },
     "output_type": "display_data"
    },
    {
     "data": {
      "image/png": "[encoded data removed]",
      "text/plain": [
       "plot without title"
      ]
     },
     "metadata": {
      "image/png": {
       "height": 420,
       "width": 420
      }
     },
     "output_type": "display_data"
    },
    {
     "data": {
      "image/png": "[encoded data removed]",
      "text/plain": [
       "plot without title"
      ]
     },
     "metadata": {
      "image/png": {
       "height": 420,
       "width": 420
      }
     },
     "output_type": "display_data"
    },
    {
     "data": {
      "image/png": "[encoded data removed]",
      "text/plain": [
       "plot without title"
      ]
     },
     "metadata": {
      "image/png": {
       "height": 420,
       "width": 420
      }
     },
     "output_type": "display_data"
    }
   ],
   "source": [
    "library(tidyverse)\n",
    "library(ggplot2)\n",
    "library(GGally)\n",
    "cor(d %>% select(year,price,mileage,tax,mpg,engineSize))\n",
    "hist(d$price)\n",
    "f <- d %>% mutate(lnprice =log(price))\n",
    "hist(f$lnprice)\n",
    "\n",
    "ggpairs(d %>% select(year,price))\n",
    "\n",
    "ggpairs(d %>% select(price,mileage))\n",
    "\n",
    "ggpairs(d %>% select(price,tax))\n",
    "\n",
    "ggpairs(d %>% select(price,mpg))\n",
    "\n",
    "ggpairs(d %>% select(price,engineSize))\n"
   ]
  },
  {
   "cell_type": "markdown",
   "id": "4fa3a680",
   "metadata": {},
   "source": [
    "#### **Observations:**\n",
    "+ The year and price variables appear to be positively correlated as shown by scatter plot and correlation coefficients.\n",
    "+ The price and mileage variables appear to be negatively correlated as shown by scatter plot and correlation coefficients.\n",
    "+ The price and tax variables appear to be positively correlated as shown by scatter plot and correlation coefficients.\n",
    "+ The price and mpg variables appear to be negatively correlated as shown by scatter plot and correlation coefficients.\n",
    "+ The price and engineSize variables appear to be positively correlated as shown by scatter plot and correlation coefficients.\n",
    "\n",
    "---  \n",
    "\n",
    "#### CORRELATION MATRIX"
   ]
  },
  {
   "cell_type": "code",
   "execution_count": 5,
   "id": "e470620c",
   "metadata": {
    "message": false,
    "warning": false
   },
   "outputs": [
    {
     "name": "stderr",
     "output_type": "stream",
     "text": [
      "Warning message in warn_if_args_exist(list(...)):\n",
      "\"Extra arguments: \"bins\" are being ignored.  If these are meant to be aesthetics, submit them using the 'mapping' variable within ggpairs with ggplot2::aes or ggplot2::aes_string.\"\n",
      "`stat_bin()` using `bins = 30`. Pick better value with `binwidth`.\n",
      "\n",
      "`stat_bin()` using `bins = 30`. Pick better value with `binwidth`.\n",
      "\n",
      "`stat_bin()` using `bins = 30`. Pick better value with `binwidth`.\n",
      "\n",
      "`stat_bin()` using `bins = 30`. Pick better value with `binwidth`.\n",
      "\n",
      "`stat_bin()` using `bins = 30`. Pick better value with `binwidth`.\n",
      "\n",
      "`stat_bin()` using `bins = 30`. Pick better value with `binwidth`.\n",
      "\n",
      "`stat_bin()` using `bins = 30`. Pick better value with `binwidth`.\n",
      "\n",
      "`stat_bin()` using `bins = 30`. Pick better value with `binwidth`.\n",
      "\n",
      "`stat_bin()` using `bins = 30`. Pick better value with `binwidth`.\n",
      "\n",
      "`stat_bin()` using `bins = 30`. Pick better value with `binwidth`.\n",
      "\n",
      "`stat_bin()` using `bins = 30`. Pick better value with `binwidth`.\n",
      "\n",
      "`stat_bin()` using `bins = 30`. Pick better value with `binwidth`.\n",
      "\n"
     ]
    },
    {
     "data": {
      "image/png": "[encoded data removed]",
      "text/plain": [
       "plot without title"
      ]
     },
     "metadata": {
      "image/png": {
       "height": 420,
       "width": 420
      }
     },
     "output_type": "display_data"
    }
   ],
   "source": [
    "data <- read.csv('audi.csv', header=TRUE)\n",
    "ggpairs(data %>% select(price, year, transmission, mileage, fuelType, tax, mpg, engineSize), bins=10)"
   ]
  },
  {
   "cell_type": "markdown",
   "id": "a49bb184",
   "metadata": {},
   "source": [
    "---\n"
   ]
  },
  {
   "cell_type": "markdown",
   "id": "aacc6b92",
   "metadata": {},
   "source": [
    "## 2. Splitting and Manipulating the data  "
   ]
  },
  {
   "cell_type": "code",
   "execution_count": 6,
   "id": "710f98b4",
   "metadata": {
    "lines_to_next_cell": 2
   },
   "outputs": [
    {
     "name": "stdout",
     "output_type": "stream",
     "text": [
      "'data.frame':\t7467 obs. of  9 variables:\n",
      " $ model       : chr  \" A4\" \" Q5\" \" A4\" \" A3\" ...\n",
      " $ year        : int  2017 2016 2018 2018 2015 2018 2017 2019 2015 2017 ...\n",
      " $ price       : int  19220 28698 20290 14500 16406 18995 19490 48000 21990 19990 ...\n",
      " $ transmission: chr  \"Manual\" \"Automatic\" \"Automatic\" \"Semi-Auto\" ...\n",
      " $ mileage     : int  14378 44419 19450 22496 12123 5864 13248 5900 37200 31191 ...\n",
      " $ fuelType    : chr  \"Diesel\" \"Diesel\" \"Petrol\" \"Diesel\" ...\n",
      " $ tax         : int  30 235 150 145 160 145 125 145 235 145 ...\n",
      " $ mpg         : num  67.3 42.2 50.4 72.4 44.8 47.1 50.4 50.4 44.8 58.9 ...\n",
      " $ engineSize  : num  2 3 1.4 1.6 2 1 1.4 3 3 2 ...\n",
      "'data.frame':\t3201 obs. of  9 variables:\n",
      " $ model       : chr  \" A1\" \" A4\" \" A1\" \" A4\" ...\n",
      " $ year        : int  2016 2017 2016 2016 2016 2016 2017 2015 2018 2017 ...\n",
      " $ price       : int  11000 16800 13900 11750 12000 19000 22500 17500 15800 16000 ...\n",
      " $ transmission: chr  \"Manual\" \"Automatic\" \"Automatic\" \"Manual\" ...\n",
      " $ mileage     : int  29946 25952 32260 75185 22451 37652 21649 62748 10793 47482 ...\n",
      " $ fuelType    : chr  \"Petrol\" \"Diesel\" \"Petrol\" \"Diesel\" ...\n",
      " $ tax         : int  30 145 30 20 30 200 145 150 145 150 ...\n",
      " $ mpg         : num  55.4 67.3 58.9 70.6 55.4 47.1 58.9 53.3 56.5 47.9 ...\n",
      " $ engineSize  : num  1.4 2 1.4 2 1.4 2 3 3 1.4 1.4 ...\n"
     ]
    }
   ],
   "source": [
    "set.seed(123)\n",
    "\n",
    "idx <- sample(nrow(data), .7*nrow(data))\n",
    "train <- data[idx, ]\n",
    "test <- data[-idx, ]\n",
    "str(train)\n",
    "str(test)"
   ]
  },
  {
   "cell_type": "markdown",
   "id": "583eeceb",
   "metadata": {},
   "source": [
    "---  \n",
    "\n",
    "#### Manipulate the data and scale it using preProcess function in caret package.  "
   ]
  },
  {
   "cell_type": "code",
   "execution_count": 7,
   "id": "59046671",
   "metadata": {
    "lines_to_next_cell": 2
   },
   "outputs": [
    {
     "data": {
      "text/plain": [
       "    model                year          price        transmission      \n",
       " Length:7467        Min.   :1998   Min.   :  1699   Length:7467       \n",
       " Class :character   1st Qu.:2016   1st Qu.: 15250   Class :character  \n",
       " Mode  :character   Median :2017   Median : 20444   Mode  :character  \n",
       "                    Mean   :2017   Mean   : 22918                     \n",
       "                    3rd Qu.:2019   3rd Qu.: 27990                     \n",
       "                    Max.   :2020   Max.   :145000                     \n",
       "    mileage          fuelType              tax                mpg          \n",
       " Min.   :-1.0485   Length:7467        Min.   :-1.91190   Min.   :-2.50029  \n",
       " 1st Qu.:-0.7992   Class :character   1st Qu.:-0.02977   1st Qu.:-0.78431  \n",
       " Median :-0.2481   Mode  :character   Median : 0.27137   Median :-0.08342  \n",
       " Mean   : 0.0000                      Mean   : 0.00000   Mean   : 0.00000  \n",
       " 3rd Qu.: 0.4826                      3rd Qu.: 0.27137   3rd Qu.: 0.56913  \n",
       " Max.   :12.6149                      Max.   : 6.82118   Max.   :11.09057  \n",
       "   engineSize     \n",
       " Min.   :-3.2040  \n",
       " 1st Qu.:-0.7211  \n",
       " Median : 0.1066  \n",
       " Mean   : 0.0000  \n",
       " 3rd Qu.: 0.1066  \n",
       " Max.   : 7.2242  "
      ]
     },
     "metadata": {},
     "output_type": "display_data"
    }
   ],
   "source": [
    "col_n <- c('mpg', 'mileage', 'tax', 'engineSize')\n",
    "\n",
    "proc <- preProcess(train[,col_n], method = c('center', 'scale'))\n",
    "\n",
    "train[,col_n] <- predict(proc, train[,col_n])\n",
    "test[,col_n] <- predict(proc, test[,col_n])\n",
    "\n",
    "summary(train)\n"
   ]
  },
  {
   "cell_type": "markdown",
   "id": "e94dd27f",
   "metadata": {},
   "source": [
    "---\n",
    "\n",
    "## 3. Simple Linear Model\n",
    "\n",
    "The simplest form of regression is linear regression, which assumes that the predictors have a linear relationship with the target variable. The input variables are assumed to have a Gaussian distribution and are not correlated with each other (a problem called multi-collinearity).  \n",
    "\n",
    "The linear regression equation can be expressed in the following form: y = a1x1 + a2x2 + a3x3 + ..... + anxn + b  \n",
    "\n",
    "In the above equation:\n",
    "\n",
    "y is the target variable.\n",
    "x1, x2, x3, ... xn are the features.  \n",
    "a1, a2, a3, ... an are the coefficients.  \n",
    "b is the parameter of the model.    \n",
    "\n",
    "The parameters a and b in the model are selected through the ordinary least squares (OLS) method. This method works by minimizing the sum of squares of residuals (actual value - predicted value)."
   ]
  },
  {
   "cell_type": "code",
   "execution_count": 8,
   "id": "e9d70d6b",
   "metadata": {
    "lines_to_next_cell": 2
   },
   "outputs": [
    {
     "data": {
      "text/plain": [
       "\n",
       "Call:\n",
       "lm(formula = price ~ ., data = train)\n",
       "\n",
       "Residuals:\n",
       "   Min     1Q Median     3Q    Max \n",
       "-31030  -2113   -374   1583  43251 \n",
       "\n",
       "Coefficients:\n",
       "                        Estimate Std. Error t value Pr(>|t|)    \n",
       "(Intercept)           -3.637e+06  7.288e+04 -49.904  < 2e-16 ***\n",
       "model A2               1.872e+04  3.870e+03   4.837 1.34e-06 ***\n",
       "model A3               1.191e+03  1.725e+02   6.903 5.50e-12 ***\n",
       "model A4               1.569e+03  2.022e+02   7.758 9.80e-15 ***\n",
       "model A5               2.844e+03  2.296e+02  12.390  < 2e-16 ***\n",
       "model A6               3.427e+03  2.543e+02  13.479  < 2e-16 ***\n",
       "model A7               4.183e+03  4.776e+02   8.757  < 2e-16 ***\n",
       "model A8               7.851e+03  4.920e+02  15.957  < 2e-16 ***\n",
       "model Q2               1.352e+03  2.199e+02   6.146 8.34e-10 ***\n",
       "model Q3               2.781e+03  2.057e+02  13.521  < 2e-16 ***\n",
       "model Q5               6.441e+03  2.599e+02  24.778  < 2e-16 ***\n",
       "model Q7               1.497e+04  3.698e+02  40.476  < 2e-16 ***\n",
       "model Q8               2.387e+04  6.088e+02  39.212  < 2e-16 ***\n",
       "model R8               5.892e+04  1.018e+03  57.856  < 2e-16 ***\n",
       "model RS3              9.642e+03  8.517e+02  11.322  < 2e-16 ***\n",
       "model RS4              2.008e+04  8.945e+02  22.449  < 2e-16 ***\n",
       "model RS5              2.080e+04  9.205e+02  22.593  < 2e-16 ***\n",
       "model RS6              2.620e+04  7.994e+02  32.771  < 2e-16 ***\n",
       "model RS7              1.932e+04  3.883e+03   4.977 6.60e-07 ***\n",
       "model S3               3.727e+03  1.125e+03   3.313 0.000926 ***\n",
       "model S4               1.060e+04  1.388e+03   7.633 2.57e-14 ***\n",
       "model S5               2.023e+03  2.242e+03   0.903 0.366731    \n",
       "model S8               3.587e+03  2.748e+03   1.305 0.191889    \n",
       "model SQ5              1.123e+04  1.185e+03   9.477  < 2e-16 ***\n",
       "model SQ7              1.927e+04  1.500e+03  12.845  < 2e-16 ***\n",
       "model TT               3.394e+03  2.962e+02  11.461  < 2e-16 ***\n",
       "year                   1.813e+03  3.613e+01  50.190  < 2e-16 ***\n",
       "transmissionManual    -1.552e+03  1.341e+02 -11.570  < 2e-16 ***\n",
       "transmissionSemi-Auto  9.309e+01  1.203e+02   0.774 0.439177    \n",
       "mileage               -1.816e+03  7.727e+01 -23.496  < 2e-16 ***\n",
       "fuelTypeHybrid         3.534e+04  1.268e+03  27.876  < 2e-16 ***\n",
       "fuelTypePetrol        -1.176e+03  1.415e+02  -8.308  < 2e-16 ***\n",
       "tax                   -2.019e+03  6.663e+01 -30.302  < 2e-16 ***\n",
       "mpg                   -3.826e+03  1.009e+02 -37.919  < 2e-16 ***\n",
       "engineSize             2.621e+03  8.830e+01  29.680  < 2e-16 ***\n",
       "---\n",
       "Signif. codes:  0 '***' 0.001 '**' 0.01 '*' 0.05 '.' 0.1 ' ' 1\n",
       "\n",
       "Residual standard error: 3849 on 7432 degrees of freedom\n",
       "Multiple R-squared:  0.8914,\tAdjusted R-squared:  0.8909 \n",
       "F-statistic:  1795 on 34 and 7432 DF,  p-value: < 2.2e-16\n"
      ]
     },
     "metadata": {},
     "output_type": "display_data"
    },
    {
     "data": {
      "image/png": "[encoded data removed]",
      "text/plain": [
       "Plot with title \"Distribution of Residuals\""
      ]
     },
     "metadata": {
      "image/png": {
       "height": 420,
       "width": 420
      }
     },
     "output_type": "display_data"
    }
   ],
   "source": [
    "linear_model <- lm(price ~ ., data = train)\n",
    "summary(linear_model)\n",
    "hist(linear_model$residuals, main = 'Distribution of Residuals', col = 'pink')"
   ]
  },
  {
   "cell_type": "markdown",
   "id": "17df7868",
   "metadata": {},
   "source": [
    "---\n",
    "\n",
    "#### Use the model and test data to predict the prices  \n"
   ]
  },
  {
   "cell_type": "code",
   "execution_count": 9,
   "id": "c48deeac",
   "metadata": {
    "lines_to_next_cell": 2
   },
   "outputs": [],
   "source": [
    "preds_lm <- predict(linear_model, newdata = test)"
   ]
  },
  {
   "cell_type": "markdown",
   "id": "26f317ef",
   "metadata": {},
   "source": [
    "---  "
   ]
  },
  {
   "cell_type": "markdown",
   "id": "247f8ca5",
   "metadata": {},
   "source": [
    "#### Performance of the model on the basis of RMSE, MAE and RSquared  \n"
   ]
  },
  {
   "cell_type": "code",
   "execution_count": 10,
   "id": "70df5cd8",
   "metadata": {
    "lines_to_next_cell": 2
   },
   "outputs": [
    {
     "data": {
      "text/html": [
       "<style>\n",
       ".dl-inline {width: auto; margin:0; padding: 0}\n",
       ".dl-inline>dt, .dl-inline>dd {float: none; width: auto; display: inline-block}\n",
       ".dl-inline>dt::after {content: \":\\0020\"; padding-right: .5ex}\n",
       ".dl-inline>dt:not(:first-of-type) {padding-left: .5ex}\n",
       "</style><dl class=dl-inline><dt>RMSE</dt><dd>3839.67001788094</dd><dt>MAE</dt><dd>2585.01824836475</dd><dt>RSquared</dt><dd>0.891428383852052</dd></dl>\n"
      ],
      "text/latex": [
       "\\begin{description*}\n",
       "\\item[RMSE] 3839.67001788094\n",
       "\\item[MAE] 2585.01824836475\n",
       "\\item[RSquared] 0.891428383852052\n",
       "\\end{description*}\n"
      ],
      "text/markdown": [
       "RMSE\n",
       ":   3839.67001788094MAE\n",
       ":   2585.01824836475RSquared\n",
       ":   0.891428383852052\n",
       "\n"
      ],
      "text/plain": [
       "        RMSE          MAE     RSquared \n",
       "3839.6700179 2585.0182484    0.8914284 "
      ]
     },
     "metadata": {},
     "output_type": "display_data"
    },
    {
     "data": {
      "text/html": [
       "<style>\n",
       ".dl-inline {width: auto; margin:0; padding: 0}\n",
       ".dl-inline>dt, .dl-inline>dd {float: none; width: auto; display: inline-block}\n",
       ".dl-inline>dt::after {content: \":\\0020\"; padding-right: .5ex}\n",
       ".dl-inline>dt:not(:first-of-type) {padding-left: .5ex}\n",
       "</style><dl class=dl-inline><dt>RMSE</dt><dd>3911.10675948767</dd><dt>MAE</dt><dd>2555.83180667903</dd><dt>RSquared</dt><dd>0.891176599019139</dd></dl>\n"
      ],
      "text/latex": [
       "\\begin{description*}\n",
       "\\item[RMSE] 3911.10675948767\n",
       "\\item[MAE] 2555.83180667903\n",
       "\\item[RSquared] 0.891176599019139\n",
       "\\end{description*}\n"
      ],
      "text/markdown": [
       "RMSE\n",
       ":   3911.10675948767MAE\n",
       ":   2555.83180667903RSquared\n",
       ":   0.891176599019139\n",
       "\n"
      ],
      "text/plain": [
       "        RMSE          MAE     RSquared \n",
       "3911.1067595 2555.8318067    0.8911766 "
      ]
     },
     "metadata": {},
     "output_type": "display_data"
    }
   ],
   "source": [
    "calc_performance <- function(actual, predicted) {\n",
    "  rmse <- sqrt(mean((actual - predicted)**2))\n",
    "  mae <- mean(abs(actual - predicted))\n",
    "  rsq <- 1 - (sum((actual - predicted)**2))/(sum((actual - mean(actual))**2))\n",
    "  return(c(RMSE = rmse, MAE = mae, RSquared = rsq))\n",
    "}\n",
    "calc_performance(train$price, linear_model$fitted.values)\n",
    "calc_performance(test$price, preds_lm)"
   ]
  },
  {
   "cell_type": "markdown",
   "id": "4d5de135",
   "metadata": {},
   "source": [
    "RMSE and MAE values for train and test datasets are almost similar, thus we can say that model performance is reasonably good.  \n",
    "\n",
    "Now, let us evaluate other regression models to see if we can come up with a better model for price prediction.  \n",
    "\n",
    "---"
   ]
  },
  {
   "cell_type": "markdown",
   "id": "78cc016d",
   "metadata": {},
   "source": [
    "## 4. Define Custom Control Parameters  \n",
    "\n",
    "We will use trainControl function present in caret package to define custom control parameters for regression models.\n",
    "\n",
    "We have used the below parameters for creating a custom control:\n",
    "\n",
    "1. method = 'repeatedcv'; CV: Cross Validation\n",
    "2. number = 10; In 10 fold cross validation, training data is split into 10 parts out of which 9 are used for model building and 1 is used for error estimation. \n",
    "3. repeat = 10; CV is repeated 10 times."
   ]
  },
  {
   "cell_type": "code",
   "execution_count": 11,
   "id": "f740dee6",
   "metadata": {},
   "outputs": [],
   "source": [
    "custom <- trainControl(method = 'repeatedcv',\n",
    "                       number = 10,\n",
    "                       repeats = 10)"
   ]
  },
  {
   "cell_type": "markdown",
   "id": "bdda1ed8",
   "metadata": {},
   "source": [
    "## 5. Linear, Ridge, Lasso and Elastic Net Regression Models {.tabset .tabset-fade .tabset-pills}\n",
    "\n",
    "### 5.1 Linear Regression Model using custom control parameters  \n"
   ]
  },
  {
   "cell_type": "code",
   "execution_count": 12,
   "id": "c8b0d203",
   "metadata": {
    "message": false,
    "warning": false
   },
   "outputs": [
    {
     "name": "stderr",
     "output_type": "stream",
     "text": [
      "Warning message in predict.lm(modelFit, newdata):\n",
      "\"prediction from a rank-deficient fit may be misleading\"\n",
      "Warning message in predict.lm(modelFit, newdata):\n",
      "\"prediction from a rank-deficient fit may be misleading\"\n",
      "Warning message in predict.lm(modelFit, newdata):\n",
      "\"prediction from a rank-deficient fit may be misleading\"\n",
      "Warning message in predict.lm(modelFit, newdata):\n",
      "\"prediction from a rank-deficient fit may be misleading\"\n",
      "Warning message in predict.lm(modelFit, newdata):\n",
      "\"prediction from a rank-deficient fit may be misleading\"\n",
      "Warning message in predict.lm(modelFit, newdata):\n",
      "\"prediction from a rank-deficient fit may be misleading\"\n",
      "Warning message in predict.lm(modelFit, newdata):\n",
      "\"prediction from a rank-deficient fit may be misleading\"\n",
      "Warning message in predict.lm(modelFit, newdata):\n",
      "\"prediction from a rank-deficient fit may be misleading\"\n",
      "Warning message in predict.lm(modelFit, newdata):\n",
      "\"prediction from a rank-deficient fit may be misleading\"\n",
      "Warning message in predict.lm(modelFit, newdata):\n",
      "\"prediction from a rank-deficient fit may be misleading\"\n",
      "Warning message in predict.lm(modelFit, newdata):\n",
      "\"prediction from a rank-deficient fit may be misleading\"\n",
      "Warning message in predict.lm(modelFit, newdata):\n",
      "\"prediction from a rank-deficient fit may be misleading\"\n",
      "Warning message in predict.lm(modelFit, newdata):\n",
      "\"prediction from a rank-deficient fit may be misleading\"\n",
      "Warning message in predict.lm(modelFit, newdata):\n",
      "\"prediction from a rank-deficient fit may be misleading\"\n",
      "Warning message in predict.lm(modelFit, newdata):\n",
      "\"prediction from a rank-deficient fit may be misleading\"\n",
      "Warning message in predict.lm(modelFit, newdata):\n",
      "\"prediction from a rank-deficient fit may be misleading\"\n",
      "Warning message in predict.lm(modelFit, newdata):\n",
      "\"prediction from a rank-deficient fit may be misleading\"\n",
      "Warning message in predict.lm(modelFit, newdata):\n",
      "\"prediction from a rank-deficient fit may be misleading\"\n"
     ]
    },
    {
     "data": {
      "text/html": [
       "<table class=\"dataframe\">\n",
       "<caption>A data.frame: 1 × 7</caption>\n",
       "<thead>\n",
       "\t<tr><th></th><th scope=col>intercept</th><th scope=col>RMSE</th><th scope=col>Rsquared</th><th scope=col>MAE</th><th scope=col>RMSESD</th><th scope=col>RsquaredSD</th><th scope=col>MAESD</th></tr>\n",
       "\t<tr><th></th><th scope=col>&lt;lgl&gt;</th><th scope=col>&lt;dbl&gt;</th><th scope=col>&lt;dbl&gt;</th><th scope=col>&lt;dbl&gt;</th><th scope=col>&lt;dbl&gt;</th><th scope=col>&lt;dbl&gt;</th><th scope=col>&lt;dbl&gt;</th></tr>\n",
       "</thead>\n",
       "<tbody>\n",
       "\t<tr><th scope=row>1</th><td>TRUE</td><td>3905.909</td><td>0.8878181</td><td>2611.595</td><td>274.0985</td><td>0.01322403</td><td>98.47677</td></tr>\n",
       "</tbody>\n",
       "</table>\n"
      ],
      "text/latex": [
       "A data.frame: 1 × 7\n",
       "\\begin{tabular}{r|lllllll}\n",
       "  & intercept & RMSE & Rsquared & MAE & RMSESD & RsquaredSD & MAESD\\\\\n",
       "  & <lgl> & <dbl> & <dbl> & <dbl> & <dbl> & <dbl> & <dbl>\\\\\n",
       "\\hline\n",
       "\t1 & TRUE & 3905.909 & 0.8878181 & 2611.595 & 274.0985 & 0.01322403 & 98.47677\\\\\n",
       "\\end{tabular}\n"
      ],
      "text/markdown": [
       "\n",
       "A data.frame: 1 × 7\n",
       "\n",
       "| <!--/--> | intercept &lt;lgl&gt; | RMSE &lt;dbl&gt; | Rsquared &lt;dbl&gt; | MAE &lt;dbl&gt; | RMSESD &lt;dbl&gt; | RsquaredSD &lt;dbl&gt; | MAESD &lt;dbl&gt; |\n",
       "|---|---|---|---|---|---|---|---|\n",
       "| 1 | TRUE | 3905.909 | 0.8878181 | 2611.595 | 274.0985 | 0.01322403 | 98.47677 |\n",
       "\n"
      ],
      "text/plain": [
       "  intercept RMSE     Rsquared  MAE      RMSESD   RsquaredSD MAESD   \n",
       "1 TRUE      3905.909 0.8878181 2611.595 274.0985 0.01322403 98.47677"
      ]
     },
     "metadata": {},
     "output_type": "display_data"
    },
    {
     "data": {
      "text/plain": [
       "Linear Regression \n",
       "\n",
       "7467 samples\n",
       "   8 predictor\n",
       "\n",
       "No pre-processing\n",
       "Resampling: Cross-Validated (10 fold, repeated 10 times) \n",
       "Summary of sample sizes: 6720, 6720, 6719, 6722, 6721, 6721, ... \n",
       "Resampling results:\n",
       "\n",
       "  RMSE      Rsquared   MAE     \n",
       "  3905.909  0.8878181  2611.595\n",
       "\n",
       "Tuning parameter 'intercept' was held constant at a value of TRUE"
      ]
     },
     "metadata": {},
     "output_type": "display_data"
    },
    {
     "data": {
      "text/plain": [
       "\n",
       "Call:\n",
       "lm(formula = .outcome ~ ., data = dat)\n",
       "\n",
       "Residuals:\n",
       "   Min     1Q Median     3Q    Max \n",
       "-31030  -2113   -374   1583  43251 \n",
       "\n",
       "Coefficients:\n",
       "                          Estimate Std. Error t value Pr(>|t|)    \n",
       "(Intercept)             -3.637e+06  7.288e+04 -49.904  < 2e-16 ***\n",
       "`model A2`               1.872e+04  3.870e+03   4.837 1.34e-06 ***\n",
       "`model A3`               1.191e+03  1.725e+02   6.903 5.50e-12 ***\n",
       "`model A4`               1.569e+03  2.022e+02   7.758 9.80e-15 ***\n",
       "`model A5`               2.844e+03  2.296e+02  12.390  < 2e-16 ***\n",
       "`model A6`               3.427e+03  2.543e+02  13.479  < 2e-16 ***\n",
       "`model A7`               4.183e+03  4.776e+02   8.757  < 2e-16 ***\n",
       "`model A8`               7.851e+03  4.920e+02  15.957  < 2e-16 ***\n",
       "`model Q2`               1.352e+03  2.199e+02   6.146 8.34e-10 ***\n",
       "`model Q3`               2.781e+03  2.057e+02  13.521  < 2e-16 ***\n",
       "`model Q5`               6.441e+03  2.599e+02  24.778  < 2e-16 ***\n",
       "`model Q7`               1.497e+04  3.698e+02  40.476  < 2e-16 ***\n",
       "`model Q8`               2.387e+04  6.088e+02  39.212  < 2e-16 ***\n",
       "`model R8`               5.892e+04  1.018e+03  57.856  < 2e-16 ***\n",
       "`model RS3`              9.642e+03  8.517e+02  11.322  < 2e-16 ***\n",
       "`model RS4`              2.008e+04  8.945e+02  22.449  < 2e-16 ***\n",
       "`model RS5`              2.080e+04  9.205e+02  22.593  < 2e-16 ***\n",
       "`model RS6`              2.620e+04  7.994e+02  32.771  < 2e-16 ***\n",
       "`model RS7`              1.932e+04  3.883e+03   4.977 6.60e-07 ***\n",
       "`model S3`               3.727e+03  1.125e+03   3.313 0.000926 ***\n",
       "`model S4`               1.060e+04  1.388e+03   7.633 2.57e-14 ***\n",
       "`model S5`               2.023e+03  2.242e+03   0.903 0.366731    \n",
       "`model S8`               3.587e+03  2.748e+03   1.305 0.191889    \n",
       "`model SQ5`              1.123e+04  1.185e+03   9.477  < 2e-16 ***\n",
       "`model SQ7`              1.927e+04  1.500e+03  12.845  < 2e-16 ***\n",
       "`model TT`               3.394e+03  2.962e+02  11.461  < 2e-16 ***\n",
       "year                     1.813e+03  3.613e+01  50.190  < 2e-16 ***\n",
       "transmissionManual      -1.552e+03  1.341e+02 -11.570  < 2e-16 ***\n",
       "`transmissionSemi-Auto`  9.309e+01  1.203e+02   0.774 0.439177    \n",
       "mileage                 -1.816e+03  7.727e+01 -23.496  < 2e-16 ***\n",
       "fuelTypeHybrid           3.534e+04  1.268e+03  27.876  < 2e-16 ***\n",
       "fuelTypePetrol          -1.176e+03  1.415e+02  -8.308  < 2e-16 ***\n",
       "tax                     -2.019e+03  6.663e+01 -30.302  < 2e-16 ***\n",
       "mpg                     -3.826e+03  1.009e+02 -37.919  < 2e-16 ***\n",
       "engineSize               2.621e+03  8.830e+01  29.680  < 2e-16 ***\n",
       "---\n",
       "Signif. codes:  0 '***' 0.001 '**' 0.01 '*' 0.05 '.' 0.1 ' ' 1\n",
       "\n",
       "Residual standard error: 3849 on 7432 degrees of freedom\n",
       "Multiple R-squared:  0.8914,\tAdjusted R-squared:  0.8909 \n",
       "F-statistic:  1795 on 34 and 7432 DF,  p-value: < 2.2e-16\n"
      ]
     },
     "metadata": {},
     "output_type": "display_data"
    },
    {
     "name": "stderr",
     "output_type": "stream",
     "text": [
      "Warning message:\n",
      "\"not plotting observations with leverage one:\n",
      "  3222, 6168\"\n"
     ]
    },
    {
     "data": {
      "image/png": "[encoded data removed]",
      "text/plain": [
       "Plot with title \"\""
      ]
     },
     "metadata": {
      "image/png": {
       "height": 420,
       "width": 420
      }
     },
     "output_type": "display_data"
    },
    {
     "data": {
      "image/png": "[encoded data removed]",
      "text/plain": [
       "Plot with title \"\""
      ]
     },
     "metadata": {
      "image/png": {
       "height": 420,
       "width": 420
      }
     },
     "output_type": "display_data"
    },
    {
     "data": {
      "image/png": "[encoded data removed]",
      "text/plain": [
       "Plot with title \"\""
      ]
     },
     "metadata": {
      "image/png": {
       "height": 420,
       "width": 420
      }
     },
     "output_type": "display_data"
    },
    {
     "data": {
      "image/png": "[encoded data removed]",
      "text/plain": [
       "Plot with title \"\""
      ]
     },
     "metadata": {
      "image/png": {
       "height": 420,
       "width": 420
      }
     },
     "output_type": "display_data"
    }
   ],
   "source": [
    "set.seed(123)\n",
    "lm <- train(price~., train, method = 'lm', trControl = custom)\n",
    "\n",
    "lm$results\n",
    "lm\n",
    "summary(lm)\n",
    "plot(lm$finalModel, col = 'blue')"
   ]
  },
  {
   "cell_type": "markdown",
   "id": "07f4aa3a",
   "metadata": {},
   "source": [
    "From the summary, it is clear that all the predictors are statistically significant\n",
    "\n",
    "##### **In the model, the training data is split into 10 parts and 9 parts are used to train the model and 1 part is used to estimate the error. The RMSE values shown here are taken for 1 part of testing data. Comapring it to Simple Linear Model, the RMSE for test data has improved after using custom control.**\n",
    "\n",
    "---"
   ]
  },
  {
   "cell_type": "markdown",
   "id": "9b5682fa",
   "metadata": {},
   "source": [
    "### 5.2 Ridge Regression Model\n",
    "\n",
    "Ridge regression is an extension of linear regression where the loss function is modified to minimize the complexity of the model. This modification is done by adding a penalty parameter that is equivalent to the square of the magnitude of the coefficients.  \n",
    "\n",
    "**Loss function = OLS + alpha * summation (squared coefficient values)**  "
   ]
  },
  {
   "cell_type": "markdown",
   "id": "a0fd79f2",
   "metadata": {},
   "source": [
    "Ridge Regression tries to shrink the coefficients by trying to shrink the coefficients, but keeps all the variables in the model.  \n",
    "\n",
    "Ridge regression is also referred to as l2 regularization. The arguments used in the model are:  "
   ]
  },
  {
   "cell_type": "markdown",
   "id": "a1312a6b",
   "metadata": {},
   "source": [
    "**alpha**: determines the weighting to be used. In case of ridge regression, the value of alpha is zero.\n",
    "\n",
    "**family**: determines the distribution family to be used. Since this is a regression model, we will use the Gaussian distribution.\n",
    "\n",
    "**lambda**: determines the lambda values to be tried. lambda is the strength of the penalty on the coefficients.  \n"
   ]
  },
  {
   "cell_type": "code",
   "execution_count": 13,
   "id": "168b4748",
   "metadata": {
    "lines_to_next_cell": 2
   },
   "outputs": [
    {
     "data": {
      "text/plain": [
       "glmnet \n",
       "\n",
       "7467 samples\n",
       "   8 predictor\n",
       "\n",
       "No pre-processing\n",
       "Resampling: Cross-Validated (10 fold, repeated 10 times) \n",
       "Summary of sample sizes: 6720, 6720, 6719, 6722, 6721, 6721, ... \n",
       "Resampling results across tuning parameters:\n",
       "\n",
       "  lambda  RMSE      Rsquared   MAE     \n",
       "   100    3958.446  0.8857677  2593.807\n",
       "   200    3958.446  0.8857677  2593.807\n",
       "   300    3958.446  0.8857677  2593.807\n",
       "   400    3958.446  0.8857677  2593.807\n",
       "   500    3958.446  0.8857677  2593.807\n",
       "   600    3958.446  0.8857677  2593.807\n",
       "   700    3958.446  0.8857677  2593.807\n",
       "   800    3966.885  0.8854646  2595.013\n",
       "   900    3978.744  0.8850409  2597.049\n",
       "  1000    3991.050  0.8846090  2599.526\n",
       "\n",
       "Tuning parameter 'alpha' was held constant at a value of 0\n",
       "RMSE was used to select the optimal model using the smallest value.\n",
       "The final values used for the model were alpha = 0 and lambda = 700."
      ]
     },
     "metadata": {},
     "output_type": "display_data"
    },
    {
     "data": {
      "image/png": "[encoded data removed]",
      "text/plain": [
       "plot without title"
      ]
     },
     "metadata": {
      "image/png": {
       "height": 420,
       "width": 420
      }
     },
     "output_type": "display_data"
    },
    {
     "data": {
      "image/png": "[encoded data removed]",
      "text/plain": [
       "plot without title"
      ]
     },
     "metadata": {
      "image/png": {
       "height": 420,
       "width": 420
      }
     },
     "output_type": "display_data"
    }
   ],
   "source": [
    "set.seed(123)\n",
    "ridge <- train(price ~ ., train, method = 'glmnet',\n",
    "               tuneGrid = expand.grid(alpha=0,\n",
    "                                      lambda= seq(100, 1000, length=10)),\n",
    "                                      trControl = custom)\n",
    "ridge\n",
    "plot(ridge, col = 'red', main='Plot of RMSE vs Lambda')\n",
    "plot(ridge$finalModel, xvar='lambda', label=TRUE)"
   ]
  },
  {
   "cell_type": "markdown",
   "id": "19c769db",
   "metadata": {},
   "source": [
    "##### **Observations:**\n",
    "\n",
    "+ We can see that RMSE is constant till lambda value of 700, after which is starts to increase. So, the model has selected lambda value of 700.  \n",
    "+ We can see from plot of coefficients vs Log Lambda that as Lambda tends to 15, all coefficients become more or less equal to 0.\n",
    "+ The plot shows that at all times all 34 variables are present in the model(see top part of Coefficients vs Log Lambda plot).\n",
    "\n",
    "---  \n",
    "\n",
    "### 5.3 LASSO Regression  \n",
    "\n",
    "Lasso regression, or the Least Absolute Shrinkage and Selection Operator, is also a modification of linear regression. In lasso, the loss function is modified to minimize the complexity of the model by limiting the sum of the absolute values of the model coefficients.  \n",
    "\n",
    "Alpha value for LASSO is 1.\n"
   ]
  },
  {
   "cell_type": "code",
   "execution_count": 14,
   "id": "34833594",
   "metadata": {},
   "outputs": [
    {
     "data": {
      "text/plain": [
       "glmnet \n",
       "\n",
       "7467 samples\n",
       "   8 predictor\n",
       "\n",
       "No pre-processing\n",
       "Resampling: Cross-Validated (10 fold, repeated 10 times) \n",
       "Summary of sample sizes: 6720, 6720, 6719, 6722, 6721, 6721, ... \n",
       "Resampling results across tuning parameters:\n",
       "\n",
       "  lambda    RMSE      Rsquared   MAE     \n",
       "  1.000000  3906.553  0.8877758  2611.197\n",
       "  1.210526  3906.553  0.8877758  2611.197\n",
       "  1.421053  3906.553  0.8877758  2611.197\n",
       "  1.631579  3906.553  0.8877758  2611.197\n",
       "  1.842105  3906.553  0.8877758  2611.197\n",
       "  2.052632  3906.553  0.8877758  2611.197\n",
       "  2.263158  3906.553  0.8877758  2611.197\n",
       "  2.473684  3906.553  0.8877758  2611.197\n",
       "  2.684211  3906.553  0.8877758  2611.197\n",
       "  2.894737  3906.553  0.8877758  2611.197\n",
       "  3.105263  3906.553  0.8877758  2611.197\n",
       "  3.315789  3906.553  0.8877758  2611.197\n",
       "  3.526316  3906.553  0.8877758  2611.197\n",
       "  3.736842  3906.553  0.8877758  2611.197\n",
       "  3.947368  3906.553  0.8877758  2611.197\n",
       "  4.157895  3906.553  0.8877758  2611.197\n",
       "  4.368421  3906.553  0.8877758  2611.197\n",
       "  4.578947  3906.553  0.8877758  2611.197\n",
       "  4.789474  3906.583  0.8877742  2611.202\n",
       "  5.000000  3906.643  0.8877707  2611.212\n",
       "\n",
       "Tuning parameter 'alpha' was held constant at a value of 1\n",
       "RMSE was used to select the optimal model using the smallest value.\n",
       "The final values used for the model were alpha = 1 and lambda = 4.578947."
      ]
     },
     "metadata": {},
     "output_type": "display_data"
    },
    {
     "data": {
      "image/png": "[encoded data removed]",
      "text/plain": [
       "plot without title"
      ]
     },
     "metadata": {
      "image/png": {
       "height": 420,
       "width": 420
      }
     },
     "output_type": "display_data"
    },
    {
     "data": {
      "image/png": "[encoded data removed]",
      "text/plain": [
       "plot without title"
      ]
     },
     "metadata": {
      "image/png": {
       "height": 420,
       "width": 420
      }
     },
     "output_type": "display_data"
    }
   ],
   "source": [
    "set.seed(123)\n",
    "lasso <- train(price ~ ., train, \n",
    "               method = 'glmnet',\n",
    "               tuneGrid = expand.grid(alpha=1,\n",
    "                                      lambda= seq(1, 5, length=20)),\n",
    "                                      trControl = custom)\n",
    "\n",
    "lasso\n",
    "plot(lasso, col = 'red', main='Plot of RMSE vs Lambda')\n",
    "plot(lasso$finalModel, xvar='lambda', label=TRUE)"
   ]
  },
  {
   "cell_type": "markdown",
   "id": "73a69d39",
   "metadata": {},
   "source": [
    "##### **Observations:**\n",
    "\n",
    "+ We can see that RMSE is constant till lambda value of approximately 4.6, after which is starts to increase. So, the model has selected lambda value of 4.6.  \n",
    "+ We can see from plot of coefficients vs Log Lambda that as Log Lambda tends to ~9, all coefficients become more or less equal to 0.\n",
    "+ The plot shows that LASSO deflates the number of variables and as Log Lambda tends to > 8 only 4 Variables are left in the model.\n",
    "\n",
    "---  \n",
    "\n",
    "### 5.4. Elastic Net Regression\n",
    "\n",
    "Elastic net regression combines the properties of ridge and lasso regression. It works by penalizing the model using both the 1l2-norm1 and the 1l1-norm1. The model can be easily built using the caret package."
   ]
  },
  {
   "cell_type": "code",
   "execution_count": 15,
   "id": "ad9bcaec",
   "metadata": {
    "lines_to_next_cell": 2
   },
   "outputs": [
    {
     "data": {
      "text/plain": [
       "glmnet \n",
       "\n",
       "7467 samples\n",
       "   8 predictor\n",
       "\n",
       "No pre-processing\n",
       "Resampling: Cross-Validated (10 fold, repeated 10 times) \n",
       "Summary of sample sizes: 6720, 6720, 6719, 6722, 6721, 6721, ... \n",
       "Resampling results across tuning parameters:\n",
       "\n",
       "  alpha      lambda     RMSE      Rsquared   MAE     \n",
       "  0.0000000   0.000000  3958.446  0.8857677  2593.807\n",
       "  0.0000000   2.142857  3958.446  0.8857677  2593.807\n",
       "  0.0000000   4.285714  3958.446  0.8857677  2593.807\n",
       "  0.0000000   6.428571  3958.446  0.8857677  2593.807\n",
       "  0.0000000   8.571429  3958.446  0.8857677  2593.807\n",
       "  0.0000000  10.714286  3958.446  0.8857677  2593.807\n",
       "  0.0000000  12.857143  3958.446  0.8857677  2593.807\n",
       "  0.0000000  15.000000  3958.446  0.8857677  2593.807\n",
       "  0.0000000  17.142857  3958.446  0.8857677  2593.807\n",
       "  0.0000000  19.285714  3958.446  0.8857677  2593.807\n",
       "  0.0000000  21.428571  3958.446  0.8857677  2593.807\n",
       "  0.0000000  23.571429  3958.446  0.8857677  2593.807\n",
       "  0.0000000  25.714286  3958.446  0.8857677  2593.807\n",
       "  0.0000000  27.857143  3958.446  0.8857677  2593.807\n",
       "  0.0000000  30.000000  3958.446  0.8857677  2593.807\n",
       "  0.1111111   0.000000  3906.369  0.8877883  2609.181\n",
       "  0.1111111   2.142857  3906.369  0.8877883  2609.181\n",
       "  0.1111111   4.285714  3906.369  0.8877883  2609.181\n",
       "  0.1111111   6.428571  3906.369  0.8877883  2609.181\n",
       "  0.1111111   8.571429  3906.369  0.8877883  2609.181\n",
       "  0.1111111  10.714286  3906.369  0.8877883  2609.181\n",
       "  0.1111111  12.857143  3906.369  0.8877883  2609.181\n",
       "  0.1111111  15.000000  3906.369  0.8877883  2609.181\n",
       "  0.1111111  17.142857  3906.369  0.8877883  2609.181\n",
       "  0.1111111  19.285714  3906.369  0.8877883  2609.181\n",
       "  0.1111111  21.428571  3906.369  0.8877883  2609.181\n",
       "  0.1111111  23.571429  3906.369  0.8877883  2609.181\n",
       "  0.1111111  25.714286  3906.369  0.8877883  2609.181\n",
       "  0.1111111  27.857143  3906.437  0.8877850  2609.082\n",
       "  0.1111111  30.000000  3906.537  0.8877796  2608.935\n",
       "  0.2222222   0.000000  3906.564  0.8877759  2610.046\n",
       "  0.2222222   2.142857  3906.564  0.8877759  2610.046\n",
       "  0.2222222   4.285714  3906.564  0.8877759  2610.046\n",
       "  0.2222222   6.428571  3906.564  0.8877759  2610.046\n",
       "  0.2222222   8.571429  3906.564  0.8877759  2610.046\n",
       "  0.2222222  10.714286  3906.564  0.8877759  2610.046\n",
       "  0.2222222  12.857143  3906.564  0.8877759  2610.046\n",
       "  0.2222222  15.000000  3906.564  0.8877759  2610.046\n",
       "  0.2222222  17.142857  3906.566  0.8877759  2610.046\n",
       "  0.2222222  19.285714  3906.684  0.8877695  2609.937\n",
       "  0.2222222  21.428571  3906.829  0.8877611  2609.818\n",
       "  0.2222222  23.571429  3906.986  0.8877522  2609.707\n",
       "  0.2222222  25.714286  3907.167  0.8877422  2609.611\n",
       "  0.2222222  27.857143  3907.390  0.8877296  2609.555\n",
       "  0.2222222  30.000000  3907.613  0.8877175  2609.501\n",
       "  0.3333333   0.000000  3906.522  0.8877768  2610.492\n",
       "  0.3333333   2.142857  3906.522  0.8877768  2610.492\n",
       "  0.3333333   4.285714  3906.522  0.8877768  2610.492\n",
       "  0.3333333   6.428571  3906.522  0.8877768  2610.492\n",
       "  0.3333333   8.571429  3906.522  0.8877768  2610.492\n",
       "  0.3333333  10.714286  3906.522  0.8877768  2610.492\n",
       "  0.3333333  12.857143  3906.536  0.8877765  2610.488\n",
       "  0.3333333  15.000000  3906.768  0.8877632  2610.414\n",
       "  0.3333333  17.142857  3907.018  0.8877490  2610.345\n",
       "  0.3333333  19.285714  3907.263  0.8877352  2610.267\n",
       "  0.3333333  21.428571  3907.566  0.8877183  2610.271\n",
       "  0.3333333  23.571429  3907.931  0.8876978  2610.351\n",
       "  0.3333333  25.714286  3908.294  0.8876777  2610.413\n",
       "  0.3333333  27.857143  3908.660  0.8876575  2610.470\n",
       "  0.3333333  30.000000  3909.040  0.8876367  2610.543\n",
       "  0.4444444   0.000000  3906.587  0.8877722  2610.755\n",
       "  0.4444444   2.142857  3906.587  0.8877722  2610.755\n",
       "  0.4444444   4.285714  3906.587  0.8877722  2610.755\n",
       "  0.4444444   6.428571  3906.587  0.8877722  2610.755\n",
       "  0.4444444   8.571429  3906.587  0.8877722  2610.755\n",
       "  0.4444444  10.714286  3906.703  0.8877661  2610.736\n",
       "  0.4444444  12.857143  3906.955  0.8877519  2610.710\n",
       "  0.4444444  15.000000  3907.272  0.8877339  2610.668\n",
       "  0.4444444  17.142857  3907.644  0.8877128  2610.704\n",
       "  0.4444444  19.285714  3908.103  0.8876870  2610.836\n",
       "  0.4444444  21.428571  3908.555  0.8876618  2610.950\n",
       "  0.4444444  23.571429  3909.072  0.8876331  2611.152\n",
       "  0.4444444  25.714286  3909.651  0.8876009  2611.421\n",
       "  0.4444444  27.857143  3910.261  0.8875672  2611.708\n",
       "  0.4444444  30.000000  3910.890  0.8875325  2612.003\n",
       "  0.5555556   0.000000  3906.612  0.8877720  2610.927\n",
       "  0.5555556   2.142857  3906.612  0.8877720  2610.927\n",
       "  0.5555556   4.285714  3906.612  0.8877720  2610.927\n",
       "  0.5555556   6.428571  3906.612  0.8877720  2610.927\n",
       "  0.5555556   8.571429  3906.669  0.8877692  2610.938\n",
       "  0.5555556  10.714286  3906.990  0.8877497  2610.915\n",
       "  0.5555556  12.857143  3907.380  0.8877271  2610.917\n",
       "  0.5555556  15.000000  3907.879  0.8876988  2611.057\n",
       "  0.5555556  17.142857  3908.438  0.8876673  2611.262\n",
       "  0.5555556  19.285714  3909.058  0.8876327  2611.528\n",
       "  0.5555556  21.428571  3909.762  0.8875934  2611.896\n",
       "  0.5555556  23.571429  3910.508  0.8875519  2612.285\n",
       "  0.5555556  25.714286  3911.265  0.8875101  2612.665\n",
       "  0.5555556  27.857143  3912.159  0.8874607  2613.223\n",
       "  0.5555556  30.000000  3913.106  0.8874083  2613.820\n",
       "  0.6666667   0.000000  3906.627  0.8877712  2611.066\n",
       "  0.6666667   2.142857  3906.627  0.8877712  2611.066\n",
       "  0.6666667   4.285714  3906.627  0.8877712  2611.066\n",
       "  0.6666667   6.428571  3906.627  0.8877712  2611.066\n",
       "  0.6666667   8.571429  3906.899  0.8877549  2611.068\n",
       "  0.6666667  10.714286  3907.335  0.8877294  2611.084\n",
       "  0.6666667  12.857143  3907.939  0.8876950  2611.307\n",
       "  0.6666667  15.000000  3908.620  0.8876564  2611.602\n",
       "  0.6666667  17.142857  3909.353  0.8876154  2611.951\n",
       "  0.6666667  19.285714  3910.210  0.8875674  2612.435\n",
       "  0.6666667  21.428571  3911.089  0.8875185  2612.905\n",
       "  0.6666667  23.571429  3912.136  0.8874603  2613.599\n",
       "  0.6666667  25.714286  3913.261  0.8873978  2614.342\n",
       "  0.6666667  27.857143  3914.419  0.8873337  2615.066\n",
       "  0.6666667  30.000000  3915.710  0.8872621  2615.953\n",
       "  0.7777778   0.000000  3906.577  0.8877747  2611.119\n",
       "  0.7777778   2.142857  3906.577  0.8877747  2611.119\n",
       "  0.7777778   4.285714  3906.577  0.8877747  2611.119\n",
       "  0.7777778   6.428571  3906.665  0.8877694  2611.126\n",
       "  0.7777778   8.571429  3907.159  0.8877393  2611.182\n",
       "  0.7777778  10.714286  3907.803  0.8877023  2611.407\n",
       "  0.7777778  12.857143  3908.562  0.8876593  2611.749\n",
       "  0.7777778  15.000000  3909.411  0.8876115  2612.185\n",
       "  0.7777778  17.142857  3910.393  0.8875564  2612.754\n",
       "  0.7777778  19.285714  3911.468  0.8874964  2613.418\n",
       "  0.7777778  21.428571  3912.717  0.8874268  2614.274\n",
       "  0.7777778  23.571429  3914.030  0.8873538  2615.140\n",
       "  0.7777778  25.714286  3915.495  0.8872723  2616.173\n",
       "  0.7777778  27.857143  3917.120  0.8871818  2617.346\n",
       "  0.7777778  30.000000  3918.836  0.8870864  2618.569\n",
       "  0.8888889   0.000000  3906.536  0.8877754  2611.198\n",
       "  0.8888889   2.142857  3906.536  0.8877754  2611.198\n",
       "  0.8888889   4.285714  3906.536  0.8877754  2611.198\n",
       "  0.8888889   6.428571  3906.843  0.8877576  2611.227\n",
       "  0.8888889   8.571429  3907.446  0.8877226  2611.327\n",
       "  0.8888889  10.714286  3908.304  0.8876735  2611.758\n",
       "  0.8888889  12.857143  3909.216  0.8876220  2612.217\n",
       "  0.8888889  15.000000  3910.315  0.8875601  2612.878\n",
       "  0.8888889  17.142857  3911.541  0.8874915  2613.675\n",
       "  0.8888889  19.285714  3912.972  0.8874116  2614.682\n",
       "  0.8888889  21.428571  3914.481  0.8873275  2615.708\n",
       "  0.8888889  23.571429  3916.240  0.8872294  2617.006\n",
       "  0.8888889  25.714286  3918.152  0.8871227  2618.413\n",
       "  0.8888889  27.857143  3920.110  0.8870138  2619.811\n",
       "  0.8888889  30.000000  3922.323  0.8868906  2621.479\n",
       "  1.0000000   0.000000  3906.553  0.8877758  2611.197\n",
       "  1.0000000   2.142857  3906.553  0.8877758  2611.197\n",
       "  1.0000000   4.285714  3906.553  0.8877758  2611.197\n",
       "  1.0000000   6.428571  3907.054  0.8877453  2611.312\n",
       "  1.0000000   8.571429  3907.849  0.8876992  2611.625\n",
       "  1.0000000  10.714286  3908.795  0.8876454  2612.076\n",
       "  1.0000000  12.857143  3909.976  0.8875787  2612.812\n",
       "  1.0000000  15.000000  3911.292  0.8875049  2613.660\n",
       "  1.0000000  17.142857  3912.871  0.8874165  2614.797\n",
       "  1.0000000  19.285714  3914.567  0.8873218  2615.990\n",
       "  1.0000000  21.428571  3916.553  0.8872107  2617.476\n",
       "  1.0000000  23.571429  3918.695  0.8870912  2619.064\n",
       "  1.0000000  25.714286  3920.995  0.8869630  2620.773\n",
       "  1.0000000  27.857143  3923.547  0.8868205  2622.721\n",
       "  1.0000000  30.000000  3926.121  0.8866776  2624.605\n",
       "\n",
       "RMSE was used to select the optimal model using the smallest value.\n",
       "The final values used for the model were alpha = 0.1111111 and lambda\n",
       " = 25.71429."
      ]
     },
     "metadata": {},
     "output_type": "display_data"
    },
    {
     "data": {
      "image/png": "[encoded data removed]",
      "text/plain": [
       "plot without title"
      ]
     },
     "metadata": {
      "image/png": {
       "height": 420,
       "width": 420
      }
     },
     "output_type": "display_data"
    },
    {
     "data": {
      "image/png": "[encoded data removed]",
      "text/plain": [
       "plot without title"
      ]
     },
     "metadata": {
      "image/png": {
       "height": 420,
       "width": 420
      }
     },
     "output_type": "display_data"
    }
   ],
   "source": [
    "set.seed(123)\n",
    "en <- train(price ~ ., train, \n",
    "               method = 'glmnet',\n",
    "               tuneGrid = expand.grid(alpha=seq(0, 1, length=10),\n",
    "                                      lambda= seq(0, 30, length=15)),\n",
    "                                      trControl = custom)\n",
    "en\n",
    "plot(en, main='Plot of RMSE vs Lambda')\n",
    "plot(en$finalModel, xvar='lambda', label=TRUE)"
   ]
  },
  {
   "cell_type": "markdown",
   "id": "9e1001f1",
   "metadata": {},
   "source": [
    "##### **Observations:**\n",
    "\n",
    "+ The model chooses alpha value of 0.1111 and lambda value of 25.7143.\n",
    "+ Plot of RMSE vs Lambda shows mixing percentages and we can see the chosen combination of alpha = 0.1111 and lambda = 25.7143 denoted by the lowest line in the plot.\n",
    "+ In the plot of Log Lambda vs Coefficients, we can see that when Log Lambda tends to 10, almost all coefficients become 0 and we are left with only 8 variables in the model."
   ]
  },
  {
   "cell_type": "markdown",
   "id": "36739291",
   "metadata": {},
   "source": [
    "---\n",
    "\n",
    "## 6. Comparing the Models  "
   ]
  },
  {
   "cell_type": "code",
   "execution_count": 16,
   "id": "209c9b0d",
   "metadata": {},
   "outputs": [
    {
     "data": {
      "text/plain": [
       "\n",
       "Call:\n",
       "summary.resamples(object = res)\n",
       "\n",
       "Models: LinearModel, Ridge, Lasso, ElasticNet \n",
       "Number of resamples: 100 \n",
       "\n",
       "MAE \n",
       "                Min.  1st Qu.   Median     Mean  3rd Qu.     Max. NA's\n",
       "LinearModel 2401.349 2535.527 2605.472 2611.595 2688.755 2829.182    0\n",
       "Ridge       2372.852 2517.085 2592.243 2593.807 2665.269 2841.000    0\n",
       "Lasso       2398.401 2535.907 2607.549 2611.197 2688.373 2829.141    0\n",
       "ElasticNet  2396.198 2534.204 2605.271 2609.181 2686.239 2828.018    0\n",
       "\n",
       "RMSE \n",
       "                Min.  1st Qu.   Median     Mean  3rd Qu.     Max. NA's\n",
       "LinearModel 3354.205 3700.633 3885.622 3905.909 4111.086 4513.847    0\n",
       "Ridge       3360.412 3743.012 3952.036 3958.446 4136.938 4655.454    0\n",
       "Lasso       3355.427 3703.953 3885.217 3906.553 4117.427 4523.074    0\n",
       "ElasticNet  3355.291 3703.884 3884.819 3906.369 4114.565 4523.499    0\n",
       "\n",
       "Rsquared \n",
       "                 Min.   1st Qu.    Median      Mean   3rd Qu.      Max. NA's\n",
       "LinearModel 0.8528873 0.8791615 0.8886971 0.8878181 0.8963552 0.9178238    0\n",
       "Ridge       0.8528221 0.8769151 0.8858753 0.8857677 0.8946752 0.9143723    0\n",
       "Lasso       0.8526683 0.8792741 0.8885776 0.8877758 0.8963844 0.9176914    0\n",
       "ElasticNet  0.8528124 0.8793161 0.8885599 0.8877883 0.8963336 0.9176701    0\n"
      ]
     },
     "metadata": {},
     "output_type": "display_data"
    }
   ],
   "source": [
    "model_list <- list(LinearModel = lm, Ridge = ridge, Lasso = lasso, ElasticNet = en)\n",
    "res <- resamples(model_list)\n",
    "summary(res)"
   ]
  },
  {
   "cell_type": "markdown",
   "id": "0a484127",
   "metadata": {},
   "source": [
    "##### **Linear Model performs better than the Ridge, LASSO and Elastic Net for this dataset. Linear Model has high mean RSquared value and lowest mean RMSE**\n",
    "\n",
    "---\n",
    "\n",
    "### Predict Prices using the models"
   ]
  },
  {
   "cell_type": "code",
   "execution_count": 17,
   "id": "87a810a4",
   "metadata": {},
   "outputs": [
    {
     "data": {
      "text/html": [
       "<style>\n",
       ".dl-inline {width: auto; margin:0; padding: 0}\n",
       ".dl-inline>dt, .dl-inline>dd {float: none; width: auto; display: inline-block}\n",
       ".dl-inline>dt::after {content: \":\\0020\"; padding-right: .5ex}\n",
       ".dl-inline>dt:not(:first-of-type) {padding-left: .5ex}\n",
       "</style><dl class=dl-inline><dt>RMSE</dt><dd>3911.10675948767</dd><dt>MAE</dt><dd>2555.83180667903</dd><dt>RSquared</dt><dd>0.891176599019139</dd></dl>\n"
      ],
      "text/latex": [
       "\\begin{description*}\n",
       "\\item[RMSE] 3911.10675948767\n",
       "\\item[MAE] 2555.83180667903\n",
       "\\item[RSquared] 0.891176599019139\n",
       "\\end{description*}\n"
      ],
      "text/markdown": [
       "RMSE\n",
       ":   3911.10675948767MAE\n",
       ":   2555.83180667903RSquared\n",
       ":   0.891176599019139\n",
       "\n"
      ],
      "text/plain": [
       "        RMSE          MAE     RSquared \n",
       "3911.1067595 2555.8318067    0.8911766 "
      ]
     },
     "metadata": {},
     "output_type": "display_data"
    },
    {
     "data": {
      "text/html": [
       "<style>\n",
       ".dl-inline {width: auto; margin:0; padding: 0}\n",
       ".dl-inline>dt, .dl-inline>dd {float: none; width: auto; display: inline-block}\n",
       ".dl-inline>dt::after {content: \":\\0020\"; padding-right: .5ex}\n",
       ".dl-inline>dt:not(:first-of-type) {padding-left: .5ex}\n",
       "</style><dl class=dl-inline><dt>RMSE</dt><dd>3911.10675948767</dd><dt>MAE</dt><dd>2555.83180667903</dd><dt>RSquared</dt><dd>0.891176599019139</dd></dl>\n"
      ],
      "text/latex": [
       "\\begin{description*}\n",
       "\\item[RMSE] 3911.10675948767\n",
       "\\item[MAE] 2555.83180667903\n",
       "\\item[RSquared] 0.891176599019139\n",
       "\\end{description*}\n"
      ],
      "text/markdown": [
       "RMSE\n",
       ":   3911.10675948767MAE\n",
       ":   2555.83180667903RSquared\n",
       ":   0.891176599019139\n",
       "\n"
      ],
      "text/plain": [
       "        RMSE          MAE     RSquared \n",
       "3911.1067595 2555.8318067    0.8911766 "
      ]
     },
     "metadata": {},
     "output_type": "display_data"
    },
    {
     "data": {
      "text/html": [
       "<style>\n",
       ".dl-inline {width: auto; margin:0; padding: 0}\n",
       ".dl-inline>dt, .dl-inline>dd {float: none; width: auto; display: inline-block}\n",
       ".dl-inline>dt::after {content: \":\\0020\"; padding-right: .5ex}\n",
       ".dl-inline>dt:not(:first-of-type) {padding-left: .5ex}\n",
       "</style><dl class=dl-inline><dt>RMSE</dt><dd>3971.82417257942</dd><dt>MAE</dt><dd>2533.16196802204</dd><dt>RSquared</dt><dd>0.88777154556471</dd></dl>\n"
      ],
      "text/latex": [
       "\\begin{description*}\n",
       "\\item[RMSE] 3971.82417257942\n",
       "\\item[MAE] 2533.16196802204\n",
       "\\item[RSquared] 0.88777154556471\n",
       "\\end{description*}\n"
      ],
      "text/markdown": [
       "RMSE\n",
       ":   3971.82417257942MAE\n",
       ":   2533.16196802204RSquared\n",
       ":   0.88777154556471\n",
       "\n"
      ],
      "text/plain": [
       "        RMSE          MAE     RSquared \n",
       "3971.8241726 2533.1619680    0.8877715 "
      ]
     },
     "metadata": {},
     "output_type": "display_data"
    },
    {
     "data": {
      "text/html": [
       "<style>\n",
       ".dl-inline {width: auto; margin:0; padding: 0}\n",
       ".dl-inline>dt, .dl-inline>dd {float: none; width: auto; display: inline-block}\n",
       ".dl-inline>dt::after {content: \":\\0020\"; padding-right: .5ex}\n",
       ".dl-inline>dt:not(:first-of-type) {padding-left: .5ex}\n",
       "</style><dl class=dl-inline><dt>RMSE</dt><dd>3913.66394494086</dd><dt>MAE</dt><dd>2553.75901626674</dd><dt>RSquared</dt><dd>0.891034249239893</dd></dl>\n"
      ],
      "text/latex": [
       "\\begin{description*}\n",
       "\\item[RMSE] 3913.66394494086\n",
       "\\item[MAE] 2553.75901626674\n",
       "\\item[RSquared] 0.891034249239893\n",
       "\\end{description*}\n"
      ],
      "text/markdown": [
       "RMSE\n",
       ":   3913.66394494086MAE\n",
       ":   2553.75901626674RSquared\n",
       ":   0.891034249239893\n",
       "\n"
      ],
      "text/plain": [
       "        RMSE          MAE     RSquared \n",
       "3913.6639449 2553.7590163    0.8910342 "
      ]
     },
     "metadata": {},
     "output_type": "display_data"
    },
    {
     "data": {
      "text/html": [
       "<style>\n",
       ".dl-inline {width: auto; margin:0; padding: 0}\n",
       ".dl-inline>dt, .dl-inline>dd {float: none; width: auto; display: inline-block}\n",
       ".dl-inline>dt::after {content: \":\\0020\"; padding-right: .5ex}\n",
       ".dl-inline>dt:not(:first-of-type) {padding-left: .5ex}\n",
       "</style><dl class=dl-inline><dt>RMSE</dt><dd>3912.97861773763</dd><dt>MAE</dt><dd>2551.98037939252</dd><dt>RSquared</dt><dd>0.891072408190612</dd></dl>\n"
      ],
      "text/latex": [
       "\\begin{description*}\n",
       "\\item[RMSE] 3912.97861773763\n",
       "\\item[MAE] 2551.98037939252\n",
       "\\item[RSquared] 0.891072408190612\n",
       "\\end{description*}\n"
      ],
      "text/markdown": [
       "RMSE\n",
       ":   3912.97861773763MAE\n",
       ":   2551.98037939252RSquared\n",
       ":   0.891072408190612\n",
       "\n"
      ],
      "text/plain": [
       "        RMSE          MAE     RSquared \n",
       "3912.9786177 2551.9803794    0.8910724 "
      ]
     },
     "metadata": {},
     "output_type": "display_data"
    }
   ],
   "source": [
    "pred_MLinear <- predict(lm, newdata = test)\n",
    "pred_Ridge <- predict(ridge, newdata = test)\n",
    "pred_Lasso <- predict(lasso, newdata = test)\n",
    "pred_EN <- predict(en, newdata = test)\n",
    "\n",
    "#include SImple Linear Model also for comparison\n",
    "calc_performance(test$price, preds_lm)\n",
    "calc_performance(test$price, pred_MLinear)\n",
    "calc_performance(test$price, pred_Ridge)\n",
    "calc_performance(test$price, pred_Lasso)\n",
    "calc_performance(test$price, pred_EN)"
   ]
  },
  {
   "cell_type": "markdown",
   "id": "6c347219",
   "metadata": {},
   "source": [
    "##### **Observations:**\n",
    "+ Both the linear models have similar values for RMSE, MAE and RSquared, \n",
    "+ Elastic net model comes very close to Linear Model's accuracy and has similar RSquared value, lower MAE and slightly higher RMSE.\n",
    "+ Ridge and Lasso individually don't stand any chance against linear models and elastic net Model.\n",
    "+ We would choose linear model as the best model here because of its ease of implementation and simplicity. "
   ]
  },
  {
   "cell_type": "markdown",
   "id": "3a4c000b",
   "metadata": {},
   "source": [
    "---\n",
    "\n",
    "## 7. Conclusion\n",
    "\n",
    "In the project, we have explored linear regression models like Ridge, LASSO and Elastic Net. We also learned about the regularization techniques to get around the Multi-collinearity issue  We explored custom parameters such as Cross Validation. \n",
    "\n",
    "The performance of the Models is summarized below:\n",
    "\n",
    "+ **Simple Linear Model**:  RMSE was 3911.10 and RSquared of 0.8911\n",
    "+ **Linear Regression using CUstom Control**: RMSE was 3911.10 and RSquared of 0.8911\n",
    "+ **Ridge Regression Model**: RMSE was 3971.82 and RSquared of 0.8877\n",
    "+ **LASSO Regression Model**: RMSE was 3913.66 and RSquared of 0.8910\n",
    "+ **Elastic Net Regression Model**: RMSE was 3912.97 and RSquared of 0.8910\n",
    "\n",
    "For the Data that we have, Linear Models are performing much better than the regularized models. Only Elastic Net Regression came really close to Linear Models in terms of performance.\n",
    "Linear Models provide RMSE of 3911 and RSquared value of 0.8911, so we would choose Linear Models for predicting used car prices as a function of model, mpg, mileage, engineSize, tax, transmission and year.\n",
    "\n",
    "\n",
    "\n",
    "\n",
    "\n",
    "\n",
    "\n",
    "\n",
    "\n",
    "\n",
    "\n",
    "\n",
    "\n",
    "\n",
    "\n",
    "\n",
    "\n",
    "\n",
    "\n",
    "\n",
    "\n",
    "\n",
    "\n",
    "\n",
    "\n",
    "\n",
    "\n",
    "\n",
    "\n",
    "\n",
    "\n",
    "\n"
   ]
  }
 ],
 "metadata": {
  "jupytext": {
   "cell_metadata_filter": "error,warning,message,-all",
   "main_language": "R",
   "notebook_metadata_filter": "-all"
  },
  "kernelspec": {
   "display_name": "R",
   "language": "R",
   "name": "ir"
  },
  "language_info": {
   "codemirror_mode": "r",
   "file_extension": ".r",
   "mimetype": "text/x-r-source",
   "name": "R",
   "pygments_lexer": "r",
   "version": "4.0.4"
  }
 },
 "nbformat": 4,
 "nbformat_minor": 5
}
